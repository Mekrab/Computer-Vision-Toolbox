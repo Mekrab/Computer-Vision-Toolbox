{
 "cells": [
  {
   "cell_type": "code",
   "execution_count": 1,
   "metadata": {},
   "outputs": [],
   "source": [
    "pwd"
   ]
  },
  {
   "cell_type": "code",
   "execution_count": 2,
   "metadata": {},
   "outputs": [],
   "source": [
    "# import the necessary packages\n",
    "from tensorflow.keras.applications import ResNet50\n",
    "from tensorflow.keras.applications.resnet import preprocess_input\n",
    "from tensorflow.keras.applications import imagenet_utils\n",
    "from tensorflow.keras.preprocessing.image import img_to_array\n",
    "from tensorflow.keras.applications import Xception, VGG16, InceptionV3\n",
    "from tensorflow.keras import layers\n",
    "from tensorflow.keras import Model\n",
    "\n",
    "from imutils.object_detection import non_max_suppression\n",
    "\n",
    "import numpy as np\n",
    "import argparse\n",
    "import pandas as pd\n",
    "import random\n",
    "import imutils\n",
    "import time\n",
    "import shutil\n",
    "import cv2\n",
    "import matplotlib.pyplot as plt\n",
    "import tensorflow as tf\n",
    "import pandas as pd\n",
    "import pprint\n",
    "from shutil import copyfile\n",
    "from tensorflow.keras.preprocessing.image import ImageDataGenerator\n",
    "from keras.preprocessing import image\n",
    "import os\n",
    "import zipfile\n",
    "\n",
    "import os\n",
    "\n",
    "#Push physical devices list for GPU \n",
    "physical_devices = tf.config.list_physical_devices('GPU')\n",
    "try:\n",
    "# Disable all GPUS\n",
    "    tf.config.set_visible_devices([], 'GPU')\n",
    "    visible_devices = tf.config.get_visible_devices()\n",
    "    for device in visible_devices:\n",
    "        assert device.device_type != 'GPU'\n",
    "except:\n",
    "# Invalid device or cannot modify virtual devices once initialized.\n",
    "    pass\n",
    "\n",
    "\n",
    "# I DONT KNOW BUT LOOK AT THIS FOR GOD SAKES\n",
    "# https://stackabuse.com/creating-and-deleting-directories-with-python/"
   ]
  },
  {
   "cell_type": "code",
   "execution_count": 3,
   "metadata": {},
   "outputs": [],
   "source": [
    "local_zip = 'CV PATH'\n",
    "zip_ref = zipfile.ZipFile(local_zip, 'r')\n",
    "zip_ref.extractall('CV PATH')\n",
    "zip_ref.close()\n"
   ]
  },
  {
   "cell_type": "code",
   "execution_count": 4,
   "metadata": {},
   "outputs": [],
   "source": [
    "def make_dir(PATH):\n",
    "    if not os.path.exists(PATH):\n",
    "        os.mkdir(PATH)\n",
    "        return PATH\n",
    "    else:\n",
    "        shutil.rmtree(PATH)\n",
    "        os.mkdir(PATH)\n",
    "        return PATH"
   ]
  },
  {
   "cell_type": "code",
   "execution_count": 5,
   "metadata": {},
   "outputs": [
    {
     "name": "stdout",
     "output_type": "stream",
     "text": [
      "/home/students/clarke.dunn/CV_Project/fruit-dataset/train/Fresh Fruit\n",
      "/home/students/clarke.dunn/CV_Project/fruit-dataset/train/Rotten Fruit\n",
      "/home/students/clarke.dunn/CV_Project/fruit-dataset/val/Fresh Fruit\n",
      "/home/students/clarke.dunn/CV_Project/fruit-dataset/val/Rotten Fruit\n",
      "/home/students/clarke.dunn/CV_Project/fruit-dataset/test/Fresh Fruit\n",
      "/home/students/clarke.dunn/CV_Project/fruit-dataset/test/Rotten Fruit\n"
     ]
    }
   ],
   "source": [
    "try:\n",
    "    base_dir = '/home/students/clarke.dunn/CV_Project'\n",
    "    fruit_dir = make_dir(os.path.join(base_dir, 'fruit-dataset'))\n",
    "    train_dir = make_dir(os.path.join(fruit_dir, 'train'))\n",
    "    validation_dir = make_dir(os.path.join(fruit_dir, 'val'))\n",
    "    test_dir = make_dir(os.path.join(fruit_dir, 'test'))\n",
    "    preview_dir = make_dir(os.path.join(fruit_dir, 'preview'))\n",
    "\n",
    "    train_fresh_dir = make_dir(os.path.join(train_dir, 'Fresh Fruit'))\n",
    "    train_rotten_dir = make_dir(os.path.join(train_dir, 'Rotten Fruit'))\n",
    "\n",
    "    validation_fresh_dir = make_dir(os.path.join(validation_dir, 'Fresh Fruit'))\n",
    "    validation_rotten_dir = make_dir(os.path.join(validation_dir, 'Rotten Fruit'))\n",
    "\n",
    "    test_fresh_dir = make_dir(os.path.join(test_dir, 'Fresh Fruit'))\n",
    "    test_rotten_dir = make_dir(os.path.join(test_dir, 'Rotten Fruit'))\n",
    "\n",
    "except OSError:\n",
    "    pass\n",
    "\n",
    "print(train_fresh_dir)\n",
    "print(train_rotten_dir)\n",
    "print(validation_fresh_dir)\n",
    "print(validation_rotten_dir)\n",
    "print(test_fresh_dir)\n",
    "print(test_rotten_dir)"
   ]
  },
  {
   "cell_type": "code",
   "execution_count": 6,
   "metadata": {},
   "outputs": [],
   "source": [
    "from PIL import Image\n",
    "\n",
    "def split_data(SOURCE='', TRAINING='', VALIDATION='', SPLIT_SIZE=0):\n",
    "    data = os.listdir(SOURCE)\n",
    "    random_data = random.sample(data, len(data))\n",
    "    train_size = len(data)*SPLIT_SIZE\n",
    "    for i, filename in enumerate(random_data):\n",
    "        if filename not in ('.ipynb_checkpoints'):\n",
    "            filepath = os.path.join(SOURCE, filename)       \n",
    "            if os.path.getsize(filepath) > 0:\n",
    "                if i < train_size:\n",
    "                    copyfile(filepath, os.path.join(TRAINING, filename))\n",
    "                else:\n",
    "                    copyfile(filepath, os.path.join(VALIDATION, filename))\n"
   ]
  },
  {
   "cell_type": "code",
   "execution_count": 7,
   "metadata": {},
   "outputs": [],
   "source": [
    "dataset_train_dir = 'CV PATH/train'\n",
    "dataset_test_dir = 'CV PATH/test'"
   ]
  },
  {
   "cell_type": "code",
   "execution_count": 8,
   "metadata": {},
   "outputs": [
    {
     "ename": "FileNotFoundError",
     "evalue": "[Errno 2] No such file or directory: '/home/students/clarke.dunn/CV_Project/dataset/train/freshapples'",
     "output_type": "error",
     "traceback": [
      "\u001b[0;31m---------------------------------------------------------------------------\u001b[0m",
      "\u001b[0;31mFileNotFoundError\u001b[0m                         Traceback (most recent call last)",
      "\u001b[0;32m<ipython-input-8-ca1a8ad5c98c>\u001b[0m in \u001b[0;36m<module>\u001b[0;34m\u001b[0m\n\u001b[1;32m     13\u001b[0m \u001b[0mroranges_test_dir\u001b[0m \u001b[0;34m=\u001b[0m \u001b[0mos\u001b[0m\u001b[0;34m.\u001b[0m\u001b[0mpath\u001b[0m\u001b[0;34m.\u001b[0m\u001b[0mjoin\u001b[0m\u001b[0;34m(\u001b[0m\u001b[0mdataset_test_dir\u001b[0m\u001b[0;34m,\u001b[0m \u001b[0;34m'rottenoranges'\u001b[0m\u001b[0;34m)\u001b[0m\u001b[0;34m\u001b[0m\u001b[0;34m\u001b[0m\u001b[0m\n\u001b[1;32m     14\u001b[0m \u001b[0;34m\u001b[0m\u001b[0m\n\u001b[0;32m---> 15\u001b[0;31m \u001b[0mprint\u001b[0m\u001b[0;34m(\u001b[0m\u001b[0;34m'fapples_train images = '\u001b[0m\u001b[0;34m,\u001b[0m \u001b[0mlen\u001b[0m\u001b[0;34m(\u001b[0m\u001b[0mos\u001b[0m\u001b[0;34m.\u001b[0m\u001b[0mlistdir\u001b[0m\u001b[0;34m(\u001b[0m\u001b[0mfapples_train_dir\u001b[0m\u001b[0;34m)\u001b[0m\u001b[0;34m)\u001b[0m\u001b[0;34m)\u001b[0m\u001b[0;34m\u001b[0m\u001b[0;34m\u001b[0m\u001b[0m\n\u001b[0m\u001b[1;32m     16\u001b[0m \u001b[0mprint\u001b[0m\u001b[0;34m(\u001b[0m\u001b[0;34m'fbananas_train images = '\u001b[0m\u001b[0;34m,\u001b[0m \u001b[0mlen\u001b[0m\u001b[0;34m(\u001b[0m\u001b[0mos\u001b[0m\u001b[0;34m.\u001b[0m\u001b[0mlistdir\u001b[0m\u001b[0;34m(\u001b[0m\u001b[0mfbananas_train_dir\u001b[0m\u001b[0;34m)\u001b[0m\u001b[0;34m)\u001b[0m\u001b[0;34m)\u001b[0m\u001b[0;34m\u001b[0m\u001b[0;34m\u001b[0m\u001b[0m\n\u001b[1;32m     17\u001b[0m \u001b[0mprint\u001b[0m\u001b[0;34m(\u001b[0m\u001b[0;34m'foranges_train images = '\u001b[0m\u001b[0;34m,\u001b[0m \u001b[0mlen\u001b[0m\u001b[0;34m(\u001b[0m\u001b[0mos\u001b[0m\u001b[0;34m.\u001b[0m\u001b[0mlistdir\u001b[0m\u001b[0;34m(\u001b[0m\u001b[0mforanges_train_dir\u001b[0m\u001b[0;34m)\u001b[0m\u001b[0;34m)\u001b[0m\u001b[0;34m)\u001b[0m\u001b[0;34m\u001b[0m\u001b[0;34m\u001b[0m\u001b[0m\n",
      "\u001b[0;31mFileNotFoundError\u001b[0m: [Errno 2] No such file or directory: '/home/students/clarke.dunn/CV_Project/dataset/train/freshapples'"
     ]
    }
   ],
   "source": [
    "fapples_train_dir = os.path.join(dataset_train_dir, 'freshapples')\n",
    "fbananas_train_dir = os.path.join(dataset_train_dir, 'freshbanana')\n",
    "foranges_train_dir = os.path.join(dataset_train_dir, 'freshoranges')\n",
    "rapples_train_dir = os.path.join(dataset_train_dir, 'rottenapples')\n",
    "rbananas_train_dir = os.path.join(dataset_train_dir, 'rottenbanana')\n",
    "roranges_train_dir = os.path.join(dataset_train_dir, 'rottenoranges')\n",
    "\n",
    "fapples_test_dir = os.path.join(dataset_test_dir, 'freshapples')\n",
    "fbananas_test_dir = os.path.join(dataset_test_dir, 'freshbanana')\n",
    "foranges_test_dir = os.path.join(dataset_test_dir, 'freshoranges')\n",
    "rapples_test_dir = os.path.join(dataset_test_dir, 'rottenapples')\n",
    "rbananas_test_dir = os.path.join(dataset_test_dir, 'rottenbanana')\n",
    "roranges_test_dir = os.path.join(dataset_test_dir, 'rottenoranges')\n",
    "\n",
    "print('fapples_train images = ', len(os.listdir(fapples_train_dir)))\n",
    "print('fbananas_train images = ', len(os.listdir(fbananas_train_dir)))\n",
    "print('foranges_train images = ', len(os.listdir(foranges_train_dir)))\n",
    "print('rapples_train images = ', len(os.listdir(rapples_train_dir)))\n",
    "print('rbananas_train images = ', len(os.listdir(rbananas_train_dir)))\n",
    "print('roranges_train images = ', len(os.listdir(roranges_train_dir)))\n",
    "print()\n",
    "print('fapples_test images = ', len(os.listdir(fapples_test_dir)))\n",
    "print('fbananas_test images = ', len(os.listdir(fbananas_test_dir)))\n",
    "print('foranges_test images = ', len(os.listdir(foranges_test_dir)))\n",
    "print('rapples_test images = ', len(os.listdir(rapples_test_dir)))\n",
    "print('rbananas_test images = ', len(os.listdir(rbananas_test_dir)))\n",
    "print('roranges_test images = ', len(os.listdir(roranges_test_dir)))"
   ]
  },
  {
   "cell_type": "code",
   "execution_count": null,
   "metadata": {},
   "outputs": [],
   "source": [
    "print(fapples_train_dir)"
   ]
  },
  {
   "cell_type": "code",
   "execution_count": null,
   "metadata": {},
   "outputs": [],
   "source": [
    "\n",
    "SPLIT_SIZE = 0.67\n",
    "split_data(fapples_train_dir, train_fresh_dir, validation_fresh_dir, SPLIT_SIZE)\n",
    "split_data(fbananas_train_dir, train_fresh_dir, validation_fresh_dir, SPLIT_SIZE)\n",
    "split_data(foranges_train_dir, train_fresh_dir, validation_fresh_dir, SPLIT_SIZE)\n",
    "split_data(rapples_train_dir, train_rotten_dir, validation_rotten_dir, SPLIT_SIZE)\n",
    "split_data(rbananas_train_dir, train_rotten_dir, validation_rotten_dir, SPLIT_SIZE)\n",
    "split_data(roranges_train_dir, train_rotten_dir, validation_rotten_dir, SPLIT_SIZE)\n",
    "\n",
    "SPLIT_SIZE = 1.0\n",
    "split_data(fapples_test_dir, test_fresh_dir, validation_fresh_dir, SPLIT_SIZE)\n",
    "split_data(fbananas_test_dir, test_fresh_dir, validation_fresh_dir, SPLIT_SIZE)\n",
    "split_data(foranges_test_dir, test_fresh_dir, validation_fresh_dir, SPLIT_SIZE)\n",
    "split_data(rapples_test_dir, test_rotten_dir, validation_rotten_dir, SPLIT_SIZE)\n",
    "split_data(rbananas_test_dir, test_rotten_dir, validation_rotten_dir, SPLIT_SIZE)\n",
    "split_data(roranges_test_dir, test_rotten_dir, validation_rotten_dir, SPLIT_SIZE)"
   ]
  },
  {
   "cell_type": "code",
   "execution_count": null,
   "metadata": {},
   "outputs": [],
   "source": [
    "\n",
    "print(len(os.listdir('CV PATH/fruit-dataset/train/Fresh Fruit/')))\n",
    "print(len(os.listdir('CV PATH/fruit-dataset/train/Rotten Fruit/')))\n",
    "print()\n",
    "print(len(os.listdir('CV PATH/fruit-dataset/val/Fresh Fruit/')))\n",
    "print(len(os.listdir('/home/students/clarke.dunn/CV_Project/fruit-dataset/val/Rotten Fruit/')))\n",
    "print()\n",
    "print(len(os.listdir('CV PATH/fruit-dataset/test/Fresh Fruit/')))\n",
    "print(len(os.listdir('CV PATH/fruit-dataset/test/Rotten Fruit/')))"
   ]
  },
  {
   "cell_type": "code",
   "execution_count": null,
   "metadata": {},
   "outputs": [],
   "source": [
    "train_datagen = ImageDataGenerator(\n",
    "    rescale=1./255,\n",
    "    width_shift_range=0.2, \n",
    "    height_shift_range=0.2,\n",
    "    shear_range=0.2,\n",
    "    zoom_range=[0.5, 1.0],\n",
    "    rotation_range=90,\n",
    "    horizontal_flip=True,\n",
    "    vertical_flip=True,\n",
    "    fill_mode='reflect'\n",
    ")\n",
    "\n",
    "validation_datagen = ImageDataGenerator(\n",
    "    rescale=1./255\n",
    ")"
   ]
  },
  {
   "cell_type": "code",
   "execution_count": null,
   "metadata": {},
   "outputs": [],
   "source": [
    "path_aug = os.path.join(train_fresh_dir, os.listdir(train_fresh_dir)[-1])\n",
    "img_augmentation = image.load_img(path_aug)\n",
    "x_aug = image.img_to_array(img_augmentation)\n",
    "x_aug = x_aug.reshape((1,) + x_aug.shape)\n",
    "\n",
    "i = 0\n",
    "for batch in train_datagen.flow(x_aug, batch_size=1, save_to_dir=preview_dir, save_prefix='fruit', save_format='jpeg'):\n",
    "    i += 1\n",
    "    if i >= 20:\n",
    "        break\n",
    "\n",
    "preview_img = os.listdir(preview_dir)\n",
    "\n",
    "plt.figure(figsize=(15, 15))\n",
    "for n in range(len(preview_img)):\n",
    "    plt.subplot((len(preview_img)/4)+1, 4, n+1)\n",
    "  \n",
    "    plt.subplots_adjust(hspace = 0.3)\n",
    "    plt.imshow(image.load_img(os.path.join(preview_dir, preview_img[n]),\n",
    "                            color_mode=\"rgb\",\n",
    "                            target_size=(150, 150),\n",
    "                            interpolation=\"nearest\"))\n",
    "plt.axis('off')\n",
    "plt.show()\n",
    "\n",
    "for fn in preview_img:\n",
    "    os.system(f'rm {os.path.join(preview_dir, fn)}')\n",
    "  "
   ]
  },
  {
   "cell_type": "code",
   "execution_count": null,
   "metadata": {},
   "outputs": [],
   "source": [
    "train_generator = train_datagen.flow_from_directory(train_dir,\n",
    "                                                    batch_size=32,\n",
    "                                                    color_mode=\"rgb\",\n",
    "                                                    # shuffle = False,\n",
    "                                                    target_size=(150,150),\n",
    "                                                    class_mode='binary')\n",
    "\n",
    "validation_generator = train_datagen.flow_from_directory(validation_dir,\n",
    "                                                         batch_size=32,\n",
    "                                                         color_mode=\"rgb\",\n",
    "                                                         # shuffle = False,\n",
    "                                                         target_size=(150,150),\n",
    "                                                         class_mode='binary')"
   ]
  },
  {
   "cell_type": "code",
   "execution_count": null,
   "metadata": {},
   "outputs": [],
   "source": [
    "class myCallback(tf.keras.callbacks.Callback):\n",
    "    def on_epoch_end(self, epoch, logs={}):\n",
    "        if(logs.get('accuracy') >= 98):\n",
    "            print(\"\\nReached 98% accuracy. Stop Training\")\n",
    "            self.model.stop_training = True\n",
    "            \n",
    "callbacks = myCallback()     \n",
    "              "
   ]
  },
  {
   "cell_type": "code",
   "execution_count": null,
   "metadata": {},
   "outputs": [],
   "source": [
    "model = tf.keras.models.Sequential([\n",
    "    tf.keras.layers.Conv2D(32, (3,3), activation='relu', input_shape=(150, 150, 3)),\n",
    "    tf.keras.layers.MaxPooling2D(2,2),\n",
    "    tf.keras.layers.Dropout(0.2),\n",
    "    tf.keras.layers.Conv2D(64, (3,3), activation='relu'),\n",
    "    tf.keras.layers.MaxPooling2D(2,2),\n",
    "    tf.keras.layers.Dropout(0.2),\n",
    "    tf.keras.layers.Conv2D(128, (3,3), activation='relu'),\n",
    "    tf.keras.layers.MaxPooling2D(2,2),\n",
    "    tf.keras.layers.Dropout(0.2),\n",
    "    tf.keras.layers.Flatten(),\n",
    "    tf.keras.layers.Dense(512, activation='relu'),\n",
    "    tf.keras.layers.Dropout(0.2),\n",
    "    tf.keras.layers.Dense(1, activation='sigmoid')\n",
    "])\n",
    "\n",
    "model.compile(optimizer='adam',\n",
    "              loss='binary_crossentropy',\n",
    "              metrics=['accuracy'])\n",
    "\n",
    "model.summary()"
   ]
  },
  {
   "cell_type": "code",
   "execution_count": null,
   "metadata": {},
   "outputs": [],
   "source": [
    "pre_trained_model = VGG16(input_shape=(150,150,3),include_top=False)\n",
    "\n",
    "for layer in pre_trained_model.layers:\n",
    "    layer.trainable = False\n",
    "    \n",
    "x = layers.Flatten()(pre_trained_model.output)    \n",
    "\n",
    "x = layers.Dense(1024, activation='relu')(x)\n",
    "x = layers.Dropout(0.2)(x)\n",
    "x = layers.Dense(1, activation='sigmoid')(x)\n",
    "\n",
    "model = Model(pre_trained_model.input, x) \n",
    "model.compile(optimizer='adam', #RMSprop(lr=0.0001), adam\n",
    "              loss='binary_crossentropy',\n",
    "              metrics=['accuracy'])\n",
    "\n",
    "pd.set_option('max_colwidth', None)\n",
    "layers = [(layer, layer.name, layer.trainable) for layer in pre_trained_model.layers]\n",
    "pd.DataFrame(layers, columns=['Layer Type', 'Layer Name', 'Layer Trainable'])"
   ]
  },
  {
   "cell_type": "code",
   "execution_count": null,
   "metadata": {},
   "outputs": [],
   "source": [
    "train_len = 0\n",
    "for foldername in os.listdir('/fruit-dataset/train'):\n",
    "    train_len = train_len + len(os.listdir(os.path.join('/fruit-dataset/train',foldername)))\n",
    "    \n",
    "val_len = 0\n",
    "for foldername in os.listdir('/fruit-dataset/val'):\n",
    "    val_len = val_len + len(os.listdir(os.path.join('/fruit-dataset/val',foldername)))\n",
    "\n",
    "print(train_len)\n",
    "print(val_len)"
   ]
  },
  {
   "cell_type": "code",
   "execution_count": null,
   "metadata": {},
   "outputs": [],
   "source": [
    "history = model.fit(\n",
    "    train_generator,\n",
    "    steps_per_epoch=(train_len/32),\n",
    "    epochs=3,\n",
    "    verbose=1,\n",
    "    callbacks=[callbacks],\n",
    "    validation_data=validation_generator,\n",
    "    validation_steps=(val_len/32)\n",
    ")"
   ]
  },
  {
   "cell_type": "code",
   "execution_count": null,
   "metadata": {},
   "outputs": [],
   "source": [
    "acc = history.history['accuracy']\n",
    "val_acc = history.history['val_accuracy']\n",
    "loss = history.history['loss']\n",
    "val_loss = history.history['val_loss']\n",
    "\n",
    "epochs = range(len(acc))\n",
    "\n",
    "plt.plot(epochs, acc, 'r')\n",
    "plt.plot(epochs, val_acc, 'b')\n",
    "plt.title('Training and Validation Accuracy')\n",
    "plt.ylabel('accuracy')\n",
    "plt.xlabel('epoch')\n",
    "plt.legend(['train', 'val'], loc='upper left')\n",
    "plt.figure()\n",
    "\n",
    "plt.plot(epochs, loss, 'r')\n",
    "plt.plot(epochs, val_loss, 'b')\n",
    "plt.ylabel('loss')\n",
    "plt.xlabel('epoch')\n",
    "plt.legend(['train', 'val'], loc='upper left')\n",
    "plt.title('Training and Validaion Loss')\n",
    "plt.figure()"
   ]
  },
  {
   "cell_type": "code",
   "execution_count": null,
   "metadata": {},
   "outputs": [],
   "source": [
    "test_datagen = ImageDataGenerator(rescale=1./255)\n",
    "\n",
    "test_generator = test_datagen.flow_from_directory(test_dir,\n",
    "                                                  batch_size=1,\n",
    "                                                  target_size=(150, 150),\n",
    "                                                  shuffle = False,\n",
    "                                                  class_mode='binary')\n",
    "filenames = test_generator.filenames\n",
    "nb_samples = len(filenames)\n",
    "\n",
    "loss, acc = model.evaluate(test_generator,steps = (nb_samples), verbose=1)\n",
    "print('accuracy test: ',acc)\n",
    "print('loss test: ',loss)"
   ]
  },
  {
   "cell_type": "code",
   "execution_count": null,
   "metadata": {},
   "outputs": [],
   "source": [
    "model.save('model.h5')"
   ]
  }
 ],
 "metadata": {
  "kernelspec": {
   "display_name": "Python 3",
   "language": "python",
   "name": "python3"
  },
  "language_info": {
   "codemirror_mode": {
    "name": "ipython",
    "version": 3
   },
   "file_extension": ".py",
   "mimetype": "text/x-python",
   "name": "python",
   "nbconvert_exporter": "python",
   "pygments_lexer": "ipython3",
   "version": "3.8.6"
  }
 },
 "nbformat": 4,
 "nbformat_minor": 4
}
