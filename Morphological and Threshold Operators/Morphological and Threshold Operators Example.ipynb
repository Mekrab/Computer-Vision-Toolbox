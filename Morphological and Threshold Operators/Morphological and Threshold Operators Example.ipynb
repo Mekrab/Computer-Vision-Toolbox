{
 "cells": [
  {
   "cell_type": "markdown",
   "metadata": {},
   "source": [
    "# Thresholding and Morphological Operators\n",
    "\n",
    "\n",
    "\n",
    "<img src=\"images/CV_HW.jpg\"  >\n"
   ]
  },
  {
   "cell_type": "code",
   "execution_count": 22,
   "metadata": {},
   "outputs": [
    {
     "name": "stdout",
     "output_type": "stream",
     "text": [
      "[[255 255 255 255 255 255 255 255 255]\n",
      " [255 255   0   0   0   0   0 255 255]\n",
      " [255   0   0   0   0   0   0   0 255]\n",
      " [255 255 255   0   0   0   0   0 255]\n",
      " [255 255 255   0   0   0   0   0 255]\n",
      " [255   0   0   0   0   0   0   0 255]\n",
      " [255   0   0   0 255   0   0   0 255]\n",
      " [255   0   0   0 255   0   0 255 255]\n",
      " [255 255 255 255 255 255 255 255 255]]\n"
     ]
    },
    {
     "data": {
      "text/plain": [
       "<matplotlib.image.AxesImage at 0x7f8cd21664a8>"
      ]
     },
     "execution_count": 22,
     "metadata": {},
     "output_type": "execute_result"
    },
    {
     "data": {
      "image/png": "[encoded data removed]",
      "text/plain": [
       "<Figure size 432x288 with 1 Axes>"
      ]
     },
     "metadata": {
      "needs_background": "light"
     },
     "output_type": "display_data"
    }
   ],
   "source": [
    "import cv2\n",
    "import numpy as np\n",
    "from matplotlib import pyplot as plt\n",
    "\n",
    "%matplotlib inline\n",
    "\n",
    "img = cv2.imread('images/9x9.jpg',0)\n",
    "ret, bw_img = cv2.threshold(img,127,255,cv2.THRESH_BINARY)\n",
    "print(bw_img)\n",
    "plt.imshow(bw_img,cmap = 'gray')\n"
   ]
  },
  {
   "cell_type": "markdown",
   "metadata": {},
   "source": [
    "### Erosion"
   ]
  },
  {
   "cell_type": "code",
   "execution_count": 23,
   "metadata": {},
   "outputs": [
    {
     "name": "stdout",
     "output_type": "stream",
     "text": [
      "[[255 255 255 255 255 255 255 255 255]\n",
      " [255 255   0   0   0   0   0   0 255]\n",
      " [255   0   0   0   0   0   0   0   0]\n",
      " [255   0   0   0   0   0   0   0   0]\n",
      " [255 255 255   0   0   0   0   0   0]\n",
      " [255   0   0   0   0   0   0   0   0]\n",
      " [255   0   0   0   0   0   0   0   0]\n",
      " [255   0   0   0   0   0   0   0   0]\n",
      " [255   0   0   0   0   0   0   0 255]]\n"
     ]
    },
    {
     "data": {
      "text/plain": [
       "<matplotlib.image.AxesImage at 0x7f8cd20c3ef0>"
      ]
     },
     "execution_count": 23,
     "metadata": {},
     "output_type": "execute_result"
    },
    {
     "data": {
      "image/png": "[encoded data removed]",
      "text/plain": [
       "<Figure size 432x288 with 1 Axes>"
      ]
     },
     "metadata": {
      "needs_background": "light"
     },
     "output_type": "display_data"
    }
   ],
   "source": [
    "kernel_bl = np.ones((2,2),np.uint8)\n",
    "erosion = cv2.erode(bw_img,kernel_bl,iterations = 1)\n",
    "print(erosion)\n",
    "plt.imshow(erosion,cmap = 'gray')"
   ]
  },
  {
   "cell_type": "markdown",
   "metadata": {},
   "source": [
    "### Dilation "
   ]
  },
  {
   "cell_type": "code",
   "execution_count": 24,
   "metadata": {},
   "outputs": [
    {
     "name": "stdout",
     "output_type": "stream",
     "text": [
      "[[255 255 255 255 255 255 255 255 255]\n",
      " [255 255 255 255 255 255 255 255 255]\n",
      " [255 255 255   0   0   0   0 255 255]\n",
      " [255 255 255 255   0   0   0   0 255]\n",
      " [255 255 255 255   0   0   0   0 255]\n",
      " [255 255 255 255   0   0   0   0 255]\n",
      " [255 255   0   0 255 255   0   0 255]\n",
      " [255 255   0   0 255 255   0 255 255]\n",
      " [255 255 255 255 255 255 255 255 255]]\n"
     ]
    },
    {
     "data": {
      "text/plain": [
       "<matplotlib.image.AxesImage at 0x7f8cd2030a20>"
      ]
     },
     "execution_count": 24,
     "metadata": {},
     "output_type": "execute_result"
    },
    {
     "data": {
      "image/png": "[encoded data removed]",
      "text/plain": [
       "<Figure size 432x288 with 1 Axes>"
      ]
     },
     "metadata": {
      "needs_background": "light"
     },
     "output_type": "display_data"
    }
   ],
   "source": [
    "dilation = cv2.dilate(bw_img,kernel_bl,iterations = 1)\n",
    "print(dilation)\n",
    "plt.imshow(dilation,cmap = 'gray')"
   ]
  },
  {
   "cell_type": "markdown",
   "metadata": {},
   "source": [
    "### Opening"
   ]
  },
  {
   "cell_type": "code",
   "execution_count": 25,
   "metadata": {},
   "outputs": [
    {
     "name": "stdout",
     "output_type": "stream",
     "text": [
      "[[255 255 255 255 255 255 255 255 255]\n",
      " [255 255 255 255 255 255 255 255 255]\n",
      " [255 255 255   0   0   0   0   0 255]\n",
      " [255 255   0   0   0   0   0   0   0]\n",
      " [255 255 255 255   0   0   0   0   0]\n",
      " [255 255 255 255   0   0   0   0   0]\n",
      " [255 255   0   0   0   0   0   0   0]\n",
      " [255 255   0   0   0   0   0   0   0]\n",
      " [255 255   0   0   0   0   0   0 255]]\n"
     ]
    },
    {
     "data": {
      "text/plain": [
       "<matplotlib.image.AxesImage at 0x7f8cd22ef7f0>"
      ]
     },
     "execution_count": 25,
     "metadata": {},
     "output_type": "execute_result"
    },
    {
     "data": {
      "image/png": "[encoded data removed]",
      "text/plain": [
       "<Figure size 432x288 with 1 Axes>"
      ]
     },
     "metadata": {
      "needs_background": "light"
     },
     "output_type": "display_data"
    }
   ],
   "source": [
    "opening = cv2.morphologyEx(bw_img, cv2.MORPH_OPEN, kernel_bl)\n",
    "print(opening)\n",
    "plt.imshow(opening,cmap = 'gray')"
   ]
  },
  {
   "cell_type": "markdown",
   "metadata": {},
   "source": [
    "### Closing"
   ]
  },
  {
   "cell_type": "code",
   "execution_count": 26,
   "metadata": {},
   "outputs": [
    {
     "name": "stdout",
     "output_type": "stream",
     "text": [
      "[[255 255 255 255 255 255 255 255 255]\n",
      " [255 255 255 255 255 255 255 255 255]\n",
      " [255 255 255   0   0   0   0   0 255]\n",
      " [255 255 255   0   0   0   0   0   0]\n",
      " [255 255 255 255   0   0   0   0   0]\n",
      " [255 255 255 255   0   0   0   0   0]\n",
      " [255 255   0   0   0   0   0   0   0]\n",
      " [255 255   0   0   0 255   0   0   0]\n",
      " [255 255   0   0   0 255   0   0 255]]\n"
     ]
    },
    {
     "data": {
      "text/plain": [
       "<matplotlib.image.AxesImage at 0x7f8cd1f6da58>"
      ]
     },
     "execution_count": 26,
     "metadata": {},
     "output_type": "execute_result"
    },
    {
     "data": {
      "image/png": "[encoded data removed]",
      "text/plain": [
       "<Figure size 432x288 with 1 Axes>"
      ]
     },
     "metadata": {
      "needs_background": "light"
     },
     "output_type": "display_data"
    }
   ],
   "source": [
    "closing = cv2.morphologyEx(bw_img, cv2.MORPH_CLOSE, kernel_bl)\n",
    "print(closing)\n",
    "plt.imshow(closing,cmap = 'gray')"
   ]
  },
  {
   "cell_type": "markdown",
   "metadata": {},
   "source": [
    "#### Erosion"
   ]
  },
  {
   "cell_type": "code",
   "execution_count": 27,
   "metadata": {},
   "outputs": [
    {
     "name": "stdout",
     "output_type": "stream",
     "text": [
      "[[255 255   0   0   0   0   0 255 255]\n",
      " [255   0   0   0   0   0   0   0 255]\n",
      " [  0   0   0   0   0   0   0   0   0]\n",
      " [255   0   0   0   0   0   0   0   0]\n",
      " [255   0   0   0   0   0   0   0   0]\n",
      " [  0   0   0   0   0   0   0   0   0]\n",
      " [  0   0   0   0   0   0   0   0   0]\n",
      " [  0   0   0   0   0   0   0   0 255]\n",
      " [255   0   0   0 255   0   0 255 255]]\n"
     ]
    },
    {
     "data": {
      "text/plain": [
       "<matplotlib.image.AxesImage at 0x7f8cd1f57c18>"
      ]
     },
     "execution_count": 27,
     "metadata": {},
     "output_type": "execute_result"
    },
    {
     "data": {
      "image/png": "[encoded data removed]",
      "text/plain": [
       "<Figure size 432x288 with 1 Axes>"
      ]
     },
     "metadata": {
      "needs_background": "light"
     },
     "output_type": "display_data"
    }
   ],
   "source": [
    "kernel_cross = np.array([[0,1,0],[1,1,1],[0,1,0]],np.uint8)\n",
    "erosion = cv2.erode(bw_img,kernel_cross,iterations = 1)\n",
    "print(erosion)\n",
    "plt.imshow(erosion,cmap = 'gray')"
   ]
  },
  {
   "cell_type": "markdown",
   "metadata": {},
   "source": [
    "#### Dilation"
   ]
  },
  {
   "cell_type": "code",
   "execution_count": 28,
   "metadata": {},
   "outputs": [
    {
     "name": "stdout",
     "output_type": "stream",
     "text": [
      "[[255 255 255 255 255 255 255 255 255]\n",
      " [255 255 255 255 255 255 255 255 255]\n",
      " [255 255 255   0   0   0   0 255 255]\n",
      " [255 255 255 255   0   0   0 255 255]\n",
      " [255 255 255 255   0   0   0 255 255]\n",
      " [255 255 255   0 255   0   0 255 255]\n",
      " [255 255   0 255 255 255   0 255 255]\n",
      " [255 255 255 255 255 255 255 255 255]\n",
      " [255 255 255 255 255 255 255 255 255]]\n"
     ]
    },
    {
     "data": {
      "text/plain": [
       "<matplotlib.image.AxesImage at 0x7f8cd1ec8518>"
      ]
     },
     "execution_count": 28,
     "metadata": {},
     "output_type": "execute_result"
    },
    {
     "data": {
      "image/png": "[encoded data removed]",
      "text/plain": [
       "<Figure size 432x288 with 1 Axes>"
      ]
     },
     "metadata": {
      "needs_background": "light"
     },
     "output_type": "display_data"
    }
   ],
   "source": [
    "dilation = cv2.dilate(bw_img,kernel_cross,iterations = 1)\n",
    "print(dilation)\n",
    "plt.imshow(dilation,cmap = 'gray')"
   ]
  },
  {
   "cell_type": "markdown",
   "metadata": {},
   "source": [
    "#### Opening "
   ]
  },
  {
   "cell_type": "code",
   "execution_count": 29,
   "metadata": {},
   "outputs": [
    {
     "name": "stdout",
     "output_type": "stream",
     "text": [
      "[[255 255 255   0   0   0 255 255 255]\n",
      " [255 255   0   0   0   0   0 255 255]\n",
      " [255   0   0   0   0   0   0   0 255]\n",
      " [255 255   0   0   0   0   0   0   0]\n",
      " [255 255   0   0   0   0   0   0   0]\n",
      " [255   0   0   0   0   0   0   0   0]\n",
      " [  0   0   0   0   0   0   0   0 255]\n",
      " [255   0   0   0 255   0   0 255 255]\n",
      " [255 255   0 255 255 255 255 255 255]]\n"
     ]
    },
    {
     "data": {
      "text/plain": [
       "<matplotlib.image.AxesImage at 0x7f8cd1e33278>"
      ]
     },
     "execution_count": 29,
     "metadata": {},
     "output_type": "execute_result"
    },
    {
     "data": {
      "image/png": "[encoded data removed]",
      "text/plain": [
       "<Figure size 432x288 with 1 Axes>"
      ]
     },
     "metadata": {
      "needs_background": "light"
     },
     "output_type": "display_data"
    }
   ],
   "source": [
    "opening = cv2.morphologyEx(bw_img, cv2.MORPH_OPEN, kernel_cross)\n",
    "print(opening)\n",
    "plt.imshow(opening,cmap = 'gray')"
   ]
  },
  {
   "cell_type": "markdown",
   "metadata": {},
   "source": [
    "#### Closing"
   ]
  },
  {
   "cell_type": "code",
   "execution_count": 30,
   "metadata": {},
   "outputs": [
    {
     "name": "stdout",
     "output_type": "stream",
     "text": [
      "[[255 255 255 255 255 255 255 255 255]\n",
      " [255 255 255   0   0   0   0 255 255]\n",
      " [255 255   0   0   0   0   0   0 255]\n",
      " [255 255 255   0   0   0   0   0 255]\n",
      " [255 255 255   0   0   0   0   0 255]\n",
      " [255 255   0   0   0   0   0   0 255]\n",
      " [255   0   0   0 255   0   0   0 255]\n",
      " [255 255   0 255 255 255   0 255 255]\n",
      " [255 255 255 255 255 255 255 255 255]]\n"
     ]
    },
    {
     "data": {
      "text/plain": [
       "<matplotlib.image.AxesImage at 0x7f8cd1e17f98>"
      ]
     },
     "execution_count": 30,
     "metadata": {},
     "output_type": "execute_result"
    },
    {
     "data": {
      "image/png": "[encoded data removed]",
      "text/plain": [
       "<Figure size 432x288 with 1 Axes>"
      ]
     },
     "metadata": {
      "needs_background": "light"
     },
     "output_type": "display_data"
    }
   ],
   "source": [
    "closing = cv2.morphologyEx(bw_img, cv2.MORPH_CLOSE, kernel_cross)\n",
    "print(closing)\n",
    "plt.imshow(closing,cmap = 'gray')"
   ]
  },
  {
   "cell_type": "code",
   "execution_count": 80,
   "metadata": {},
   "outputs": [
    {
     "data": {
      "image/png": "[encoded data removed]",
      "text/plain": [
       "<Figure size 432x288 with 6 Axes>"
      ]
     },
     "metadata": {
      "needs_background": "light"
     },
     "output_type": "display_data"
    },
    {
     "name": "stdout",
     "output_type": "stream",
     "text": [
      "[[  5 213 215 119]\n",
      " [  2 124 167 245]\n",
      " [ 99  12 230 181]\n",
      " [ 66 166   2  26]]\n",
      "[[  0 200 200   0]\n",
      " [  0   0 200 200]\n",
      " [  0   0 200 200]\n",
      " [  0 200   0   0]]\n",
      "[[200   0   0   0]\n",
      " [200   0   0   0]\n",
      " [200 200   0   0]\n",
      " [200   0 200 200]]\n",
      "[[  5 200 200 119]\n",
      " [  2 124 167 200]\n",
      " [ 99  12 200 181]\n",
      " [ 66 166   2  26]]\n",
      "[[  0 213 215 119]\n",
      " [  0 124 167 245]\n",
      " [  0   0 230 181]\n",
      " [  0 166   0   0]]\n",
      "[[ 5  0  0  0]\n",
      " [ 2  0  0  0]\n",
      " [99 12  0  0]\n",
      " [66  0  2 26]]\n"
     ]
    }
   ],
   "source": [
    "kernel = np.array([[5,213,215,119],[2,124,167,245],[99,12,230,181],[66,166,2,26]],np.uint8)\n",
    "ret,thresh1 = cv2.threshold(kernel,127,200,cv2.THRESH_BINARY)\n",
    "ret,thresh2 = cv2.threshold(kernel,100,200,cv2.THRESH_BINARY_INV)\n",
    "ret,thresh3 = cv2.threshold(kernel,200,255,cv2.THRESH_TRUNC)\n",
    "ret,thresh4 = cv2.threshold(kernel,100,255,cv2.THRESH_TOZERO)\n",
    "ret,thresh5 = cv2.threshold(kernel,100,255,cv2.THRESH_TOZERO_INV)\n",
    "\n",
    "\n",
    "thresh = ['img','thresh1','thresh2','thresh3','thresh4','thresh5']\n",
    "images = [kernel, thresh1, thresh2, thresh3, thresh4, thresh5]\n",
    "\n",
    "for i in range(6):\n",
    "    plt.subplot(2,3,i+1),plt.imshow(images[i],'gray')\n",
    "    plt.title(thresh[i])\n",
    "    \n",
    "plt.show()\n",
    "\n",
    "for i in range(6):\n",
    "    print(images[i])\n"
   ]
  },
  {
   "cell_type": "markdown",
   "metadata": {},
   "source": [
    "\n",
    "\n",
    "\\begin{bmatrix} 0& 200& 200 &  0\\\\ 0  & 0 &200 &200\\\\0  & 0 &200& 200\\\\0 &200 &  0  & 0\\end{bmatrix}\n",
    "\n",
    "\n",
    "\n",
    "\\begin{bmatrix} 200 &  0  & 0 &  0\\\\ 200 &  0 &  0  & 0\\\\200 & 200  & 0  & 0\\\\200 &  0 &200 &200\\end{bmatrix}\n",
    "\n",
    "\n",
    "\n",
    "\\begin{bmatrix} 5 &200 &200& 119\\\\ 2 &124& 167 &200\\\\299 & 12& 200& 181\\\\66 &166  & 2 & 26\\end{bmatrix}\n",
    "\n",
    "\n",
    "\n",
    "\\begin{bmatrix} 0 &213& 215& 119\\\\ 0 &124& 167 &245\\\\0 &  0 &230 &181\\\\0 &166  & 0  & 0\\end{bmatrix}\n",
    "\n",
    "\n",
    "\n",
    "\\begin{bmatrix}5 & 0 & 0 & 0\\\\ 2 & 0 & 0 & 0\\\\99 &12 & 0 & 0\\\\66 &0 & 2 &26\\end{bmatrix}\n"
   ]
  },
  {
   "cell_type": "code",
   "execution_count": null,
   "metadata": {},
   "outputs": [],
   "source": []
  }
 ],
 "metadata": {
  "kernelspec": {
   "display_name": "Python 3",
   "language": "python",
   "name": "python3"
  },
  "language_info": {
   "codemirror_mode": {
    "name": "ipython",
    "version": 3
   },
   "file_extension": ".py",
   "mimetype": "text/x-python",
   "name": "python",
   "nbconvert_exporter": "python",
   "pygments_lexer": "ipython3",
   "version": "3.8.6"
  }
 },
 "nbformat": 4,
 "nbformat_minor": 4
}
