{
 "cells": [
  {
   "cell_type": "markdown",
   "metadata": {},
   "source": [
    "\n",
    "\n",
    "#### Evaluate the accuracy of training set sizes for MNIST. Result should show using the base neural network architecture a performance curve (set of evaluated models each trained on a subset of the training data).  \n",
    "\n",
    "\n",
    "\n",
    "\n"
   ]
  },
  {
   "cell_type": "code",
   "execution_count": 1,
   "metadata": {},
   "outputs": [],
   "source": [
    "## setting up libraries\n",
    "import os\n",
    "import cv2\n",
    "import numpy as np\n",
    "import matplotlib.pyplot as plt\n",
    "\n",
    "from tensorflow import keras\n",
    "from tensorflow.keras import layers\n",
    "from matplotlib import pyplot\n",
    "import tensorflow as tf\n",
    "\n",
    "from keras.models import model_from_json\n",
    "from keras.models import load_model\n",
    "\n",
    "from keras.utils import to_categorical\n",
    "from keras.models import Sequential\n",
    "from keras.layers import Conv2D\n",
    "\n",
    "from keras.layers import MaxPooling2D\n",
    "from keras.layers import Dense\n",
    "from keras.layers import Dropout\n",
    "from keras.layers import Flatten\n",
    "\n",
    "\n",
    "from keras.preprocessing.image import load_img\n",
    "from keras.preprocessing.image import save_img\n",
    "from keras.preprocessing.image import img_to_array\n",
    "\n",
    "from sklearn.model_selection import train_test_split\n",
    "from keras.datasets import mnist\n",
    "from keras.layers.advanced_activations import LeakyReLU\n"
   ]
  },
  {
   "cell_type": "code",
   "execution_count": 2,
   "metadata": {},
   "outputs": [],
   "source": [
    "#setting up GPU devices\n",
    "\n",
    "physical_devices = tf.config.list_physical_devices('GPU')\n",
    "try:\n",
    "# Disable all GPUS\n",
    "    tf.config.set_visible_devices([], 'GPU')\n",
    "    visible_devices = tf.config.get_visible_devices()\n",
    "    for device in visible_devices:\n",
    "        assert device.device_type != 'GPU'\n",
    "except:\n",
    "# Invalid device or cannot modify virtual devices once initialized.\n",
    "    pass"
   ]
  },
  {
   "cell_type": "code",
   "execution_count": 3,
   "metadata": {},
   "outputs": [],
   "source": [
    "## Prepare the data\n",
    "\n",
    "# Model / data parameters\n",
    "num_classes = 10\n",
    "\n",
    "input_shape = (28, 28, 1)\n",
    "\n",
    "# the data, split between train and test sets\n",
    "(x_train, y_train), (x_test, y_test) = keras.datasets.mnist.load_data()\n",
    "\n",
    "# Split dataset into 10%....90% training sets \n",
    "\n",
    "x_train_10 = x_train[:6000]\n",
    "x_train_20 = x_train[:12000]\n",
    "x_train_30 = x_train[:18000]\n",
    "x_train_40 = x_train[:24000]\n",
    "x_train_50 = x_train[:30000]\n",
    "x_train_60 = x_train[:36000]\n",
    "x_train_70 = x_train[:42000]\n",
    "x_train_80 = x_train[:48000]\n",
    "x_train_90 = x_train[:54000]\n",
    "\n",
    "y_train_10 = y_train[:6000]\n",
    "y_train_20 = y_train[:12000]\n",
    "y_train_30 = y_train[:18000]\n",
    "y_train_40 = y_train[:24000]\n",
    "y_train_50 = y_train[:30000]\n",
    "y_train_60 = y_train[:36000]\n",
    "y_train_70 = y_train[:42000]\n",
    "y_train_80 = y_train[:48000]\n",
    "y_train_90 = y_train[:54000]\n",
    "\n",
    "# Put dataset into astype(\"float32\") form \n",
    "x_train_10 = x_train_10.astype(\"float32\") / 255\n",
    "x_train_20 = x_train_20.astype(\"float32\") / 255\n",
    "x_train_30 = x_train_30.astype(\"float32\") / 255\n",
    "x_train_40 = x_train_40.astype(\"float32\") / 255\n",
    "x_train_50 = x_train_50.astype(\"float32\") / 255\n",
    "x_train_60 = x_train_60.astype(\"float32\") / 255\n",
    "x_train_70 = x_train_70.astype(\"float32\") / 255\n",
    "x_train_80 = x_train_80.astype(\"float32\") / 255\n",
    "x_train_90 = x_train_90.astype(\"float32\") / 255\n",
    "\n",
    "x_train_10 = np.expand_dims(x_train_10, -1)\n",
    "x_train_20 = np.expand_dims(x_train_20, -1)\n",
    "x_train_30 = np.expand_dims(x_train_30, -1)\n",
    "x_train_40 = np.expand_dims(x_train_40, -1)\n",
    "x_train_50 = np.expand_dims(x_train_50, -1)\n",
    "x_train_60 = np.expand_dims(x_train_60, -1)\n",
    "x_train_70 = np.expand_dims(x_train_70, -1)\n",
    "x_train_80 = np.expand_dims(x_train_80, -1)\n",
    "x_train_90 = np.expand_dims(x_train_90, -1)\n",
    "\n",
    "# convert class vectors to binary class matrices\n",
    "y_train_10 = keras.utils.to_categorical(y_train_10, num_classes)\n",
    "y_train_20 = keras.utils.to_categorical(y_train_20, num_classes)\n",
    "y_train_30 = keras.utils.to_categorical(y_train_30, num_classes)\n",
    "y_train_40 = keras.utils.to_categorical(y_train_40, num_classes)\n",
    "y_train_50 = keras.utils.to_categorical(y_train_50, num_classes)\n",
    "y_train_60 = keras.utils.to_categorical(y_train_60, num_classes)\n",
    "y_train_70 = keras.utils.to_categorical(y_train_70, num_classes)\n",
    "y_train_80 = keras.utils.to_categorical(y_train_80, num_classes)\n",
    "y_train_90 = keras.utils.to_categorical(y_train_90, num_classes)\n"
   ]
  },
  {
   "cell_type": "code",
   "execution_count": 4,
   "metadata": {},
   "outputs": [
    {
     "name": "stdout",
     "output_type": "stream",
     "text": [
      "x_train shape: (60000, 28, 28, 1)\n",
      "x_test shape: (10000, 28, 28, 1)\n",
      "60000 train samples\n",
      "10000 test samples\n",
      "(10000, 10)\n",
      "(10000, 28, 28, 1)\n"
     ]
    }
   ],
   "source": [
    "## Prepare the data\n",
    "\n",
    "# Scale images to the [0, 1] range\n",
    "x_train = x_train.astype(\"float32\") / 255\n",
    "x_test = x_test.astype(\"float32\") / 255\n",
    "# Make sure images have shape (28, 28, 1)\n",
    "x_train = np.expand_dims(x_train, -1)\n",
    "x_test = np.expand_dims(x_test, -1)\n",
    "print(\"x_train shape:\", x_train.shape)\n",
    "print(\"x_test shape:\", x_test.shape)\n",
    "\n",
    "\n",
    "print(x_train.shape[0], \"train samples\")\n",
    "print(x_test.shape[0], \"test samples\")\n",
    "\n",
    "# convert class vectors to binary class matrices\n",
    "y_train = keras.utils.to_categorical(y_train, num_classes)\n",
    "y_test = keras.utils.to_categorical(y_test, num_classes)\n",
    "\n",
    "print(y_test.shape)\n",
    "print(x_test.shape)\n"
   ]
  },
  {
   "cell_type": "code",
   "execution_count": 5,
   "metadata": {},
   "outputs": [
    {
     "name": "stdout",
     "output_type": "stream",
     "text": [
      "Model: \"sequential_1\"\n",
      "_________________________________________________________________\n",
      "Layer (type)                 Output Shape              Param #   \n",
      "=================================================================\n",
      "conv2d_2 (Conv2D)            (None, 26, 26, 32)        320       \n",
      "_________________________________________________________________\n",
      "max_pooling2d_2 (MaxPooling2 (None, 13, 13, 32)        0         \n",
      "_________________________________________________________________\n",
      "conv2d_3 (Conv2D)            (None, 11, 11, 64)        18496     \n",
      "_________________________________________________________________\n",
      "max_pooling2d_3 (MaxPooling2 (None, 5, 5, 64)          0         \n",
      "_________________________________________________________________\n",
      "flatten_1 (Flatten)          (None, 1600)              0         \n",
      "_________________________________________________________________\n",
      "dense_2 (Dense)              (None, 128)               204928    \n",
      "_________________________________________________________________\n",
      "dense_3 (Dense)              (None, 10)                1290      \n",
      "=================================================================\n",
      "Total params: 225,034\n",
      "Trainable params: 225,034\n",
      "Non-trainable params: 0\n",
      "_________________________________________________________________\n",
      "Model: \"sequential_2\"\n",
      "_________________________________________________________________\n",
      "Layer (type)                 Output Shape              Param #   \n",
      "=================================================================\n",
      "conv2d_4 (Conv2D)            (None, 26, 26, 32)        320       \n",
      "_________________________________________________________________\n",
      "max_pooling2d_4 (MaxPooling2 (None, 13, 13, 32)        0         \n",
      "_________________________________________________________________\n",
      "conv2d_5 (Conv2D)            (None, 11, 11, 64)        18496     \n",
      "_________________________________________________________________\n",
      "max_pooling2d_5 (MaxPooling2 (None, 5, 5, 64)          0         \n",
      "_________________________________________________________________\n",
      "flatten_2 (Flatten)          (None, 1600)              0         \n",
      "_________________________________________________________________\n",
      "dense_4 (Dense)              (None, 128)               204928    \n",
      "_________________________________________________________________\n",
      "dense_5 (Dense)              (None, 10)                1290      \n",
      "=================================================================\n",
      "Total params: 225,034\n",
      "Trainable params: 225,034\n",
      "Non-trainable params: 0\n",
      "_________________________________________________________________\n",
      "Model: \"sequential_4\"\n",
      "_________________________________________________________________\n",
      "Layer (type)                 Output Shape              Param #   \n",
      "=================================================================\n",
      "conv2d_8 (Conv2D)            (None, 26, 26, 32)        320       \n",
      "_________________________________________________________________\n",
      "max_pooling2d_8 (MaxPooling2 (None, 13, 13, 32)        0         \n",
      "_________________________________________________________________\n",
      "conv2d_9 (Conv2D)            (None, 11, 11, 64)        18496     \n",
      "_________________________________________________________________\n",
      "max_pooling2d_9 (MaxPooling2 (None, 5, 5, 64)          0         \n",
      "_________________________________________________________________\n",
      "flatten_4 (Flatten)          (None, 1600)              0         \n",
      "_________________________________________________________________\n",
      "dense_8 (Dense)              (None, 128)               204928    \n",
      "_________________________________________________________________\n",
      "dense_9 (Dense)              (None, 10)                1290      \n",
      "=================================================================\n",
      "Total params: 225,034\n",
      "Trainable params: 225,034\n",
      "Non-trainable params: 0\n",
      "_________________________________________________________________\n",
      "Model: \"sequential_5\"\n",
      "_________________________________________________________________\n",
      "Layer (type)                 Output Shape              Param #   \n",
      "=================================================================\n",
      "conv2d_10 (Conv2D)           (None, 26, 26, 32)        320       \n",
      "_________________________________________________________________\n",
      "max_pooling2d_10 (MaxPooling (None, 13, 13, 32)        0         \n",
      "_________________________________________________________________\n",
      "conv2d_11 (Conv2D)           (None, 11, 11, 64)        18496     \n",
      "_________________________________________________________________\n",
      "max_pooling2d_11 (MaxPooling (None, 5, 5, 64)          0         \n",
      "_________________________________________________________________\n",
      "flatten_5 (Flatten)          (None, 1600)              0         \n",
      "_________________________________________________________________\n",
      "dense_10 (Dense)             (None, 128)               204928    \n",
      "_________________________________________________________________\n",
      "dense_11 (Dense)             (None, 10)                1290      \n",
      "=================================================================\n",
      "Total params: 225,034\n",
      "Trainable params: 225,034\n",
      "Non-trainable params: 0\n",
      "_________________________________________________________________\n",
      "Model: \"sequential_6\"\n",
      "_________________________________________________________________\n",
      "Layer (type)                 Output Shape              Param #   \n",
      "=================================================================\n",
      "conv2d_12 (Conv2D)           (None, 26, 26, 32)        320       \n",
      "_________________________________________________________________\n",
      "max_pooling2d_12 (MaxPooling (None, 13, 13, 32)        0         \n",
      "_________________________________________________________________\n",
      "conv2d_13 (Conv2D)           (None, 11, 11, 64)        18496     \n",
      "_________________________________________________________________\n",
      "max_pooling2d_13 (MaxPooling (None, 5, 5, 64)          0         \n",
      "_________________________________________________________________\n",
      "flatten_6 (Flatten)          (None, 1600)              0         \n",
      "_________________________________________________________________\n",
      "dense_12 (Dense)             (None, 128)               204928    \n",
      "_________________________________________________________________\n",
      "dense_13 (Dense)             (None, 10)                1290      \n",
      "=================================================================\n",
      "Total params: 225,034\n",
      "Trainable params: 225,034\n",
      "Non-trainable params: 0\n",
      "_________________________________________________________________\n",
      "Model: \"sequential_7\"\n",
      "_________________________________________________________________\n",
      "Layer (type)                 Output Shape              Param #   \n",
      "=================================================================\n",
      "conv2d_14 (Conv2D)           (None, 26, 26, 32)        320       \n",
      "_________________________________________________________________\n",
      "max_pooling2d_14 (MaxPooling (None, 13, 13, 32)        0         \n",
      "_________________________________________________________________\n",
      "conv2d_15 (Conv2D)           (None, 11, 11, 64)        18496     \n",
      "_________________________________________________________________\n",
      "max_pooling2d_15 (MaxPooling (None, 5, 5, 64)          0         \n",
      "_________________________________________________________________\n",
      "flatten_7 (Flatten)          (None, 1600)              0         \n",
      "_________________________________________________________________\n",
      "dense_14 (Dense)             (None, 128)               204928    \n",
      "_________________________________________________________________\n",
      "dense_15 (Dense)             (None, 10)                1290      \n",
      "=================================================================\n",
      "Total params: 225,034\n",
      "Trainable params: 225,034\n",
      "Non-trainable params: 0\n",
      "_________________________________________________________________\n",
      "Model: \"sequential_8\"\n",
      "_________________________________________________________________\n",
      "Layer (type)                 Output Shape              Param #   \n",
      "=================================================================\n",
      "conv2d_16 (Conv2D)           (None, 26, 26, 32)        320       \n",
      "_________________________________________________________________\n",
      "max_pooling2d_16 (MaxPooling (None, 13, 13, 32)        0         \n",
      "_________________________________________________________________\n",
      "conv2d_17 (Conv2D)           (None, 11, 11, 64)        18496     \n",
      "_________________________________________________________________\n",
      "max_pooling2d_17 (MaxPooling (None, 5, 5, 64)          0         \n",
      "_________________________________________________________________\n",
      "flatten_8 (Flatten)          (None, 1600)              0         \n",
      "_________________________________________________________________\n",
      "dense_16 (Dense)             (None, 128)               204928    \n",
      "_________________________________________________________________\n",
      "dense_17 (Dense)             (None, 10)                1290      \n",
      "=================================================================\n",
      "Total params: 225,034\n",
      "Trainable params: 225,034\n",
      "Non-trainable params: 0\n",
      "_________________________________________________________________\n",
      "Model: \"sequential_9\"\n",
      "_________________________________________________________________\n",
      "Layer (type)                 Output Shape              Param #   \n",
      "=================================================================\n",
      "conv2d_18 (Conv2D)           (None, 26, 26, 32)        320       \n",
      "_________________________________________________________________\n",
      "max_pooling2d_18 (MaxPooling (None, 13, 13, 32)        0         \n",
      "_________________________________________________________________\n",
      "conv2d_19 (Conv2D)           (None, 11, 11, 64)        18496     \n",
      "_________________________________________________________________\n",
      "max_pooling2d_19 (MaxPooling (None, 5, 5, 64)          0         \n",
      "_________________________________________________________________\n",
      "flatten_9 (Flatten)          (None, 1600)              0         \n",
      "_________________________________________________________________\n",
      "dense_18 (Dense)             (None, 128)               204928    \n",
      "_________________________________________________________________\n",
      "dense_19 (Dense)             (None, 10)                1290      \n",
      "=================================================================\n",
      "Total params: 225,034\n",
      "Trainable params: 225,034\n",
      "Non-trainable params: 0\n",
      "_________________________________________________________________\n",
      "Model: \"sequential_10\"\n",
      "_________________________________________________________________\n",
      "Layer (type)                 Output Shape              Param #   \n",
      "=================================================================\n",
      "conv2d_20 (Conv2D)           (None, 26, 26, 32)        320       \n",
      "_________________________________________________________________\n",
      "max_pooling2d_20 (MaxPooling (None, 13, 13, 32)        0         \n",
      "_________________________________________________________________\n",
      "conv2d_21 (Conv2D)           (None, 11, 11, 64)        18496     \n",
      "_________________________________________________________________\n",
      "max_pooling2d_21 (MaxPooling (None, 5, 5, 64)          0         \n",
      "_________________________________________________________________\n",
      "flatten_10 (Flatten)         (None, 1600)              0         \n",
      "_________________________________________________________________\n",
      "dense_20 (Dense)             (None, 128)               204928    \n",
      "_________________________________________________________________\n",
      "dense_21 (Dense)             (None, 10)                1290      \n",
      "=================================================================\n",
      "Total params: 225,034\n",
      "Trainable params: 225,034\n",
      "Non-trainable params: 0\n",
      "_________________________________________________________________\n"
     ]
    }
   ],
   "source": [
    "#Define Model\n",
    "\n",
    "model = keras.Sequential(\n",
    "    [\n",
    "        keras.Input(shape=input_shape),\n",
    "        layers.Conv2D(32, kernel_size=(3, 3), activation=\"relu\"),\n",
    "        layers.MaxPooling2D(pool_size=(2, 2)),\n",
    "        layers.Conv2D(64, kernel_size=(3, 3), activation=\"relu\"),\n",
    "        layers.MaxPooling2D(pool_size=(2, 2)),\n",
    "        layers.Flatten(),\n",
    "        layers.Dense(128, activation='relu'),\n",
    "        layers.Dense(10, activation=\"softmax\"),\n",
    "    ]\n",
    ")\n",
    "#model.summary()\n",
    "\n",
    "\n",
    "# Another way to define the same model, is to \"add\" layers one at a time\n",
    "\n",
    "def define_model():\n",
    "    model = Sequential()\n",
    "    model.add(Conv2D(32, (3, 3), activation='relu',input_shape=(28, 28, 1)))\n",
    "    model.add(MaxPooling2D((2, 2)))\n",
    "    model.add(Conv2D(64, kernel_size=(3, 3), activation=\"relu\"))\n",
    "    model.add(MaxPooling2D(pool_size=(2, 2)))\n",
    "    model.add(Flatten())\n",
    "    model.add(Dense(128, activation='relu'))\n",
    "    model.add(Dense(10, activation='softmax'))\n",
    "    \n",
    "    # compile model\n",
    "    model.compile(loss=\"categorical_crossentropy\", optimizer=\"adam\", metrics=[\"accuracy\"])\n",
    "\n",
    "    return model\n",
    "\n",
    "# Run different models for different outputs of dataset \n",
    "model_1 = define_model()\n",
    "model_2 = define_model()\n",
    "model_3 = define_model()\n",
    "model_3 = define_model()\n",
    "model_4 = define_model()\n",
    "model_5 = define_model()\n",
    "model_6 = define_model()\n",
    "model_7 = define_model()\n",
    "model_8 = define_model()\n",
    "model_9 = define_model()\n",
    "\n",
    "model_1.summary()\n",
    "model_2.summary()\n",
    "model_3.summary()\n",
    "model_4.summary()\n",
    "model_5.summary()\n",
    "model_6.summary()\n",
    "model_7.summary()\n",
    "model_8.summary()\n",
    "model_9.summary()"
   ]
  },
  {
   "cell_type": "code",
   "execution_count": 6,
   "metadata": {},
   "outputs": [],
   "source": [
    "# Train all data\n",
    "\n",
    "epochs = 10\n",
    "batch_size= 128\n",
    "model.compile(loss=\"categorical_crossentropy\", optimizer=\"adam\", metrics=[\"accuracy\"])\n"
   ]
  },
  {
   "cell_type": "code",
   "execution_count": 7,
   "metadata": {},
   "outputs": [
    {
     "name": "stdout",
     "output_type": "stream",
     "text": [
      "Epoch 1/10\n",
      "43/43 [==============================] - 0s 11ms/step - loss: 1.0180 - accuracy: 0.7330 - val_loss: 0.3239 - val_accuracy: 0.9017\n",
      "Epoch 2/10\n",
      "43/43 [==============================] - 0s 9ms/step - loss: 0.2610 - accuracy: 0.9281 - val_loss: 0.1951 - val_accuracy: 0.9400\n",
      "Epoch 3/10\n",
      "43/43 [==============================] - 0s 9ms/step - loss: 0.1689 - accuracy: 0.9522 - val_loss: 0.1479 - val_accuracy: 0.9583\n",
      "Epoch 4/10\n",
      "43/43 [==============================] - 0s 9ms/step - loss: 0.1210 - accuracy: 0.9652 - val_loss: 0.1314 - val_accuracy: 0.9683\n",
      "Epoch 5/10\n",
      "43/43 [==============================] - 0s 9ms/step - loss: 0.0984 - accuracy: 0.9719 - val_loss: 0.1081 - val_accuracy: 0.9633\n",
      "Epoch 6/10\n",
      "43/43 [==============================] - 0s 9ms/step - loss: 0.0669 - accuracy: 0.9813 - val_loss: 0.1110 - val_accuracy: 0.9600\n",
      "Epoch 7/10\n",
      "43/43 [==============================] - 0s 9ms/step - loss: 0.0595 - accuracy: 0.9822 - val_loss: 0.0865 - val_accuracy: 0.9750\n",
      "Epoch 8/10\n",
      "43/43 [==============================] - 0s 9ms/step - loss: 0.0494 - accuracy: 0.9846 - val_loss: 0.0926 - val_accuracy: 0.9767\n",
      "Epoch 9/10\n",
      "43/43 [==============================] - 0s 9ms/step - loss: 0.0342 - accuracy: 0.9896 - val_loss: 0.0934 - val_accuracy: 0.9700\n",
      "Epoch 10/10\n",
      "43/43 [==============================] - 0s 9ms/step - loss: 0.0286 - accuracy: 0.9917 - val_loss: 0.1165 - val_accuracy: 0.9717\n"
     ]
    }
   ],
   "source": [
    "history1=model_1.fit(x_train_10, y_train_10, batch_size=batch_size, \n",
    "                     epochs=epochs,validation_data=(x_test, y_test), validation_split=0.1)"
   ]
  },
  {
   "cell_type": "code",
   "execution_count": 8,
   "metadata": {},
   "outputs": [
    {
     "name": "stdout",
     "output_type": "stream",
     "text": [
      "Epoch 1/10\n",
      "85/85 [==============================] - 1s 10ms/step - loss: 0.6397 - accuracy: 0.8222 - val_loss: 0.2336 - val_accuracy: 0.9333\n",
      "Epoch 2/10\n",
      "85/85 [==============================] - 1s 9ms/step - loss: 0.1592 - accuracy: 0.9544 - val_loss: 0.1510 - val_accuracy: 0.9550\n",
      "Epoch 3/10\n",
      "85/85 [==============================] - 1s 9ms/step - loss: 0.1025 - accuracy: 0.9696 - val_loss: 0.1375 - val_accuracy: 0.9575\n",
      "Epoch 4/10\n",
      "85/85 [==============================] - 1s 9ms/step - loss: 0.0780 - accuracy: 0.9759 - val_loss: 0.1042 - val_accuracy: 0.9683\n",
      "Epoch 5/10\n",
      "85/85 [==============================] - 1s 9ms/step - loss: 0.0573 - accuracy: 0.9838 - val_loss: 0.0864 - val_accuracy: 0.9717\n",
      "Epoch 6/10\n",
      "85/85 [==============================] - 1s 9ms/step - loss: 0.0474 - accuracy: 0.9857 - val_loss: 0.0758 - val_accuracy: 0.9742\n",
      "Epoch 7/10\n",
      "85/85 [==============================] - 1s 9ms/step - loss: 0.0375 - accuracy: 0.9885 - val_loss: 0.0987 - val_accuracy: 0.9717\n",
      "Epoch 8/10\n",
      "85/85 [==============================] - 1s 9ms/step - loss: 0.0294 - accuracy: 0.9912 - val_loss: 0.1000 - val_accuracy: 0.9750\n",
      "Epoch 9/10\n",
      "85/85 [==============================] - 1s 9ms/step - loss: 0.0244 - accuracy: 0.9930 - val_loss: 0.1182 - val_accuracy: 0.9600\n",
      "Epoch 10/10\n",
      "85/85 [==============================] - 1s 9ms/step - loss: 0.0190 - accuracy: 0.9940 - val_loss: 0.0824 - val_accuracy: 0.9758\n"
     ]
    }
   ],
   "source": [
    "history2=model_2.fit(x_train_20, y_train_20, batch_size=batch_size, \n",
    "                     epochs=epochs,validation_data=(x_test, y_test), validation_split=0.1)"
   ]
  },
  {
   "cell_type": "code",
   "execution_count": 9,
   "metadata": {},
   "outputs": [
    {
     "name": "stdout",
     "output_type": "stream",
     "text": [
      "Epoch 1/10\n",
      "127/127 [==============================] - 1s 10ms/step - loss: 0.4972 - accuracy: 0.8625 - val_loss: 0.1655 - val_accuracy: 0.9506\n",
      "Epoch 2/10\n",
      "127/127 [==============================] - 1s 9ms/step - loss: 0.1155 - accuracy: 0.9658 - val_loss: 0.1030 - val_accuracy: 0.9678\n",
      "Epoch 3/10\n",
      "127/127 [==============================] - 1s 9ms/step - loss: 0.0772 - accuracy: 0.9765 - val_loss: 0.0750 - val_accuracy: 0.9778\n",
      "Epoch 4/10\n",
      "127/127 [==============================] - 1s 9ms/step - loss: 0.0555 - accuracy: 0.9834 - val_loss: 0.0596 - val_accuracy: 0.9789\n",
      "Epoch 5/10\n",
      "127/127 [==============================] - 1s 9ms/step - loss: 0.0418 - accuracy: 0.9870 - val_loss: 0.0552 - val_accuracy: 0.9833\n",
      "Epoch 6/10\n",
      "127/127 [==============================] - 1s 9ms/step - loss: 0.0359 - accuracy: 0.9888 - val_loss: 0.0631 - val_accuracy: 0.9811\n",
      "Epoch 7/10\n",
      "127/127 [==============================] - 1s 9ms/step - loss: 0.0276 - accuracy: 0.9910 - val_loss: 0.0536 - val_accuracy: 0.9828\n",
      "Epoch 8/10\n",
      "127/127 [==============================] - 1s 9ms/step - loss: 0.0200 - accuracy: 0.9943 - val_loss: 0.0504 - val_accuracy: 0.9822\n",
      "Epoch 9/10\n",
      "127/127 [==============================] - 1s 9ms/step - loss: 0.0164 - accuracy: 0.9952 - val_loss: 0.0551 - val_accuracy: 0.9828\n",
      "Epoch 10/10\n",
      "127/127 [==============================] - 1s 9ms/step - loss: 0.0142 - accuracy: 0.9956 - val_loss: 0.0616 - val_accuracy: 0.9839\n"
     ]
    }
   ],
   "source": [
    "history3=model_3.fit(x_train_30, y_train_30, batch_size=batch_size, \n",
    "                     epochs=epochs,validation_data=(x_test, y_test), validation_split=0.1)"
   ]
  },
  {
   "cell_type": "code",
   "execution_count": 10,
   "metadata": {},
   "outputs": [
    {
     "name": "stdout",
     "output_type": "stream",
     "text": [
      "Epoch 1/10\n",
      "169/169 [==============================] - 2s 9ms/step - loss: 0.3746 - accuracy: 0.8863 - val_loss: 0.1190 - val_accuracy: 0.9617\n",
      "Epoch 2/10\n",
      "169/169 [==============================] - 1s 9ms/step - loss: 0.1019 - accuracy: 0.9698 - val_loss: 0.1119 - val_accuracy: 0.9638\n",
      "Epoch 3/10\n",
      "169/169 [==============================] - 1s 9ms/step - loss: 0.0657 - accuracy: 0.9805 - val_loss: 0.0591 - val_accuracy: 0.9804\n",
      "Epoch 4/10\n",
      "169/169 [==============================] - 1s 9ms/step - loss: 0.0511 - accuracy: 0.9839 - val_loss: 0.0596 - val_accuracy: 0.9833\n",
      "Epoch 5/10\n",
      "169/169 [==============================] - 1s 9ms/step - loss: 0.0371 - accuracy: 0.9887 - val_loss: 0.0413 - val_accuracy: 0.9846\n",
      "Epoch 6/10\n",
      "169/169 [==============================] - 1s 9ms/step - loss: 0.0298 - accuracy: 0.9910 - val_loss: 0.0477 - val_accuracy: 0.9833\n",
      "Epoch 7/10\n",
      "169/169 [==============================] - 1s 9ms/step - loss: 0.0221 - accuracy: 0.9939 - val_loss: 0.0433 - val_accuracy: 0.9867\n",
      "Epoch 8/10\n",
      "169/169 [==============================] - 1s 9ms/step - loss: 0.0168 - accuracy: 0.9945 - val_loss: 0.0550 - val_accuracy: 0.9858\n",
      "Epoch 9/10\n",
      "169/169 [==============================] - 1s 9ms/step - loss: 0.0160 - accuracy: 0.9953 - val_loss: 0.0596 - val_accuracy: 0.9825\n",
      "Epoch 10/10\n",
      "169/169 [==============================] - 1s 9ms/step - loss: 0.0132 - accuracy: 0.9960 - val_loss: 0.0577 - val_accuracy: 0.9862\n"
     ]
    }
   ],
   "source": [
    "history4=model_4.fit(x_train_40, y_train_40, batch_size=batch_size, \n",
    "                     epochs=epochs,validation_data=(x_test, y_test), validation_split=0.1)"
   ]
  },
  {
   "cell_type": "code",
   "execution_count": 11,
   "metadata": {},
   "outputs": [
    {
     "name": "stdout",
     "output_type": "stream",
     "text": [
      "Epoch 1/10\n",
      "211/211 [==============================] - 2s 9ms/step - loss: 0.3297 - accuracy: 0.9027 - val_loss: 0.1176 - val_accuracy: 0.9627\n",
      "Epoch 2/10\n",
      "211/211 [==============================] - 2s 9ms/step - loss: 0.0816 - accuracy: 0.9756 - val_loss: 0.0726 - val_accuracy: 0.9750\n",
      "Epoch 3/10\n",
      "211/211 [==============================] - 2s 9ms/step - loss: 0.0571 - accuracy: 0.9830 - val_loss: 0.0540 - val_accuracy: 0.9830\n",
      "Epoch 4/10\n",
      "211/211 [==============================] - 2s 9ms/step - loss: 0.0434 - accuracy: 0.9869 - val_loss: 0.0623 - val_accuracy: 0.9803\n",
      "Epoch 5/10\n",
      "211/211 [==============================] - 2s 9ms/step - loss: 0.0323 - accuracy: 0.9894 - val_loss: 0.0485 - val_accuracy: 0.9837\n",
      "Epoch 6/10\n",
      "211/211 [==============================] - 2s 9ms/step - loss: 0.0287 - accuracy: 0.9915 - val_loss: 0.0454 - val_accuracy: 0.9837\n",
      "Epoch 7/10\n",
      "211/211 [==============================] - 2s 9ms/step - loss: 0.0221 - accuracy: 0.9931 - val_loss: 0.0467 - val_accuracy: 0.9860\n",
      "Epoch 8/10\n",
      "211/211 [==============================] - 2s 9ms/step - loss: 0.0194 - accuracy: 0.9941 - val_loss: 0.0497 - val_accuracy: 0.9863\n",
      "Epoch 9/10\n",
      "211/211 [==============================] - 2s 9ms/step - loss: 0.0148 - accuracy: 0.9956 - val_loss: 0.0500 - val_accuracy: 0.9837\n",
      "Epoch 10/10\n",
      "211/211 [==============================] - 2s 9ms/step - loss: 0.0127 - accuracy: 0.9959 - val_loss: 0.0421 - val_accuracy: 0.9870\n"
     ]
    }
   ],
   "source": [
    "history5=model_5.fit(x_train_50, y_train_50, batch_size=batch_size, \n",
    "                     epochs=epochs,validation_data=(x_test, y_test), validation_split=0.1)"
   ]
  },
  {
   "cell_type": "code",
   "execution_count": 12,
   "metadata": {},
   "outputs": [
    {
     "name": "stdout",
     "output_type": "stream",
     "text": [
      "Epoch 1/10\n",
      "254/254 [==============================] - 2s 9ms/step - loss: 0.3046 - accuracy: 0.9114 - val_loss: 0.0965 - val_accuracy: 0.9708\n",
      "Epoch 2/10\n",
      "254/254 [==============================] - 2s 9ms/step - loss: 0.0759 - accuracy: 0.9765 - val_loss: 0.0872 - val_accuracy: 0.9722\n",
      "Epoch 3/10\n",
      "254/254 [==============================] - 2s 9ms/step - loss: 0.0504 - accuracy: 0.9848 - val_loss: 0.0534 - val_accuracy: 0.9842\n",
      "Epoch 4/10\n",
      "254/254 [==============================] - 2s 9ms/step - loss: 0.0380 - accuracy: 0.9879 - val_loss: 0.0544 - val_accuracy: 0.9806\n",
      "Epoch 5/10\n",
      "254/254 [==============================] - 2s 9ms/step - loss: 0.0290 - accuracy: 0.9907 - val_loss: 0.0589 - val_accuracy: 0.9814\n",
      "Epoch 6/10\n",
      "254/254 [==============================] - 2s 9ms/step - loss: 0.0243 - accuracy: 0.9926 - val_loss: 0.0554 - val_accuracy: 0.9836\n",
      "Epoch 7/10\n",
      "254/254 [==============================] - 2s 9ms/step - loss: 0.0174 - accuracy: 0.9947 - val_loss: 0.0492 - val_accuracy: 0.9844\n",
      "Epoch 8/10\n",
      "254/254 [==============================] - 2s 9ms/step - loss: 0.0126 - accuracy: 0.9958 - val_loss: 0.0515 - val_accuracy: 0.9867\n",
      "Epoch 9/10\n",
      "254/254 [==============================] - 2s 9ms/step - loss: 0.0130 - accuracy: 0.9956 - val_loss: 0.0557 - val_accuracy: 0.9844\n",
      "Epoch 10/10\n",
      "254/254 [==============================] - 2s 9ms/step - loss: 0.0088 - accuracy: 0.9971 - val_loss: 0.0525 - val_accuracy: 0.9875\n"
     ]
    }
   ],
   "source": [
    "history6=model_6.fit(x_train_60, y_train_60, batch_size=batch_size, \n",
    "                     epochs=epochs,validation_data=(x_test, y_test), validation_split=0.1)"
   ]
  },
  {
   "cell_type": "code",
   "execution_count": 13,
   "metadata": {},
   "outputs": [
    {
     "name": "stdout",
     "output_type": "stream",
     "text": [
      "Epoch 1/10\n",
      "296/296 [==============================] - 3s 9ms/step - loss: 0.2740 - accuracy: 0.9211 - val_loss: 0.0898 - val_accuracy: 0.9710\n",
      "Epoch 2/10\n",
      "296/296 [==============================] - 3s 9ms/step - loss: 0.0716 - accuracy: 0.9777 - val_loss: 0.0678 - val_accuracy: 0.9771\n",
      "Epoch 3/10\n",
      "296/296 [==============================] - 3s 9ms/step - loss: 0.0495 - accuracy: 0.9852 - val_loss: 0.0535 - val_accuracy: 0.9840\n",
      "Epoch 4/10\n",
      "296/296 [==============================] - 3s 9ms/step - loss: 0.0384 - accuracy: 0.9881 - val_loss: 0.0463 - val_accuracy: 0.9855\n",
      "Epoch 5/10\n",
      "296/296 [==============================] - 3s 9ms/step - loss: 0.0283 - accuracy: 0.9916 - val_loss: 0.0525 - val_accuracy: 0.9824\n",
      "Epoch 6/10\n",
      "296/296 [==============================] - 3s 9ms/step - loss: 0.0234 - accuracy: 0.9929 - val_loss: 0.0488 - val_accuracy: 0.9860\n",
      "Epoch 7/10\n",
      "296/296 [==============================] - 3s 9ms/step - loss: 0.0170 - accuracy: 0.9944 - val_loss: 0.0579 - val_accuracy: 0.9833\n",
      "Epoch 8/10\n",
      "296/296 [==============================] - 3s 9ms/step - loss: 0.0145 - accuracy: 0.9954 - val_loss: 0.0502 - val_accuracy: 0.9860\n",
      "Epoch 9/10\n",
      "296/296 [==============================] - 3s 9ms/step - loss: 0.0122 - accuracy: 0.9960 - val_loss: 0.0533 - val_accuracy: 0.9869\n",
      "Epoch 10/10\n",
      "296/296 [==============================] - 3s 9ms/step - loss: 0.0104 - accuracy: 0.9965 - val_loss: 0.0547 - val_accuracy: 0.9862\n"
     ]
    }
   ],
   "source": [
    "history7=model_7.fit(x_train_70, y_train_70, batch_size=batch_size, \n",
    "                     epochs=epochs,validation_data=(x_test, y_test), validation_split=0.1)"
   ]
  },
  {
   "cell_type": "code",
   "execution_count": 14,
   "metadata": {},
   "outputs": [
    {
     "name": "stdout",
     "output_type": "stream",
     "text": [
      "Epoch 1/10\n",
      "338/338 [==============================] - 3s 9ms/step - loss: 0.2700 - accuracy: 0.9223 - val_loss: 0.1089 - val_accuracy: 0.9667\n",
      "Epoch 2/10\n",
      "338/338 [==============================] - 3s 9ms/step - loss: 0.0657 - accuracy: 0.9796 - val_loss: 0.0676 - val_accuracy: 0.9773\n",
      "Epoch 3/10\n",
      "338/338 [==============================] - 3s 9ms/step - loss: 0.0462 - accuracy: 0.9858 - val_loss: 0.0492 - val_accuracy: 0.9840\n",
      "Epoch 4/10\n",
      "338/338 [==============================] - 3s 9ms/step - loss: 0.0349 - accuracy: 0.9891 - val_loss: 0.0519 - val_accuracy: 0.9835\n",
      "Epoch 5/10\n",
      "338/338 [==============================] - 3s 9ms/step - loss: 0.0255 - accuracy: 0.9920 - val_loss: 0.0492 - val_accuracy: 0.9860\n",
      "Epoch 6/10\n",
      "338/338 [==============================] - 3s 9ms/step - loss: 0.0203 - accuracy: 0.9938 - val_loss: 0.0475 - val_accuracy: 0.9858\n",
      "Epoch 7/10\n",
      "338/338 [==============================] - 3s 9ms/step - loss: 0.0166 - accuracy: 0.9949 - val_loss: 0.0514 - val_accuracy: 0.9862\n",
      "Epoch 8/10\n",
      "338/338 [==============================] - 3s 9ms/step - loss: 0.0146 - accuracy: 0.9952 - val_loss: 0.0515 - val_accuracy: 0.9854\n",
      "Epoch 9/10\n",
      "338/338 [==============================] - 3s 9ms/step - loss: 0.0091 - accuracy: 0.9971 - val_loss: 0.0465 - val_accuracy: 0.9879\n",
      "Epoch 10/10\n",
      "338/338 [==============================] - 3s 9ms/step - loss: 0.0091 - accuracy: 0.9969 - val_loss: 0.0498 - val_accuracy: 0.9871\n"
     ]
    }
   ],
   "source": [
    "history8=model_8.fit(x_train_80, y_train_80, batch_size=batch_size, \n",
    "                     epochs=epochs,validation_data=(x_test, y_test), validation_split=0.1)"
   ]
  },
  {
   "cell_type": "code",
   "execution_count": 15,
   "metadata": {},
   "outputs": [
    {
     "name": "stdout",
     "output_type": "stream",
     "text": [
      "Epoch 1/10\n",
      "380/380 [==============================] - 4s 9ms/step - loss: 0.2333 - accuracy: 0.9299 - val_loss: 0.0843 - val_accuracy: 0.9744\n",
      "Epoch 2/10\n",
      "380/380 [==============================] - 3s 9ms/step - loss: 0.0639 - accuracy: 0.9797 - val_loss: 0.0619 - val_accuracy: 0.9798\n",
      "Epoch 3/10\n",
      "380/380 [==============================] - 3s 9ms/step - loss: 0.0435 - accuracy: 0.9864 - val_loss: 0.0602 - val_accuracy: 0.9822\n",
      "Epoch 4/10\n",
      "380/380 [==============================] - 3s 9ms/step - loss: 0.0323 - accuracy: 0.9899 - val_loss: 0.0588 - val_accuracy: 0.9830\n",
      "Epoch 5/10\n",
      "380/380 [==============================] - 3s 9ms/step - loss: 0.0254 - accuracy: 0.9917 - val_loss: 0.0457 - val_accuracy: 0.9867\n",
      "Epoch 6/10\n",
      "380/380 [==============================] - 3s 9ms/step - loss: 0.0197 - accuracy: 0.9934 - val_loss: 0.0475 - val_accuracy: 0.9863\n",
      "Epoch 7/10\n",
      "380/380 [==============================] - 3s 9ms/step - loss: 0.0166 - accuracy: 0.9946 - val_loss: 0.0477 - val_accuracy: 0.9872\n",
      "Epoch 8/10\n",
      "380/380 [==============================] - 3s 9ms/step - loss: 0.0126 - accuracy: 0.9960 - val_loss: 0.0444 - val_accuracy: 0.9872\n",
      "Epoch 9/10\n",
      "380/380 [==============================] - 3s 9ms/step - loss: 0.0116 - accuracy: 0.9964 - val_loss: 0.0433 - val_accuracy: 0.9881\n",
      "Epoch 10/10\n",
      "380/380 [==============================] - 3s 9ms/step - loss: 0.0086 - accuracy: 0.9974 - val_loss: 0.0443 - val_accuracy: 0.9881\n"
     ]
    }
   ],
   "source": [
    "history9=model_9.fit(x_train_90, y_train_90, batch_size=batch_size, \n",
    "                     epochs=epochs,validation_data=(x_test, y_test), validation_split=0.1)"
   ]
  },
  {
   "cell_type": "code",
   "execution_count": 16,
   "metadata": {},
   "outputs": [
    {
     "name": "stdout",
     "output_type": "stream",
     "text": [
      "Test loss: 0.08745235204696655\n",
      "Test accuracy: 0.9732999801635742\n",
      "Test loss: 0.07192684710025787\n",
      "Test accuracy: 0.9797000288963318\n",
      "Test loss: 0.04629429429769516\n",
      "Test accuracy: 0.9850999712944031\n",
      "Test loss: 0.04697094485163689\n",
      "Test accuracy: 0.9853000044822693\n",
      "Test loss: 0.0366741418838501\n",
      "Test accuracy: 0.9884999990463257\n",
      "Test loss: 0.035164665430784225\n",
      "Test accuracy: 0.9891999959945679\n",
      "Test loss: 0.039190806448459625\n",
      "Test accuracy: 0.9886000156402588\n",
      "Test loss: 0.03932192549109459\n",
      "Test accuracy: 0.988099992275238\n",
      "Test loss: 0.02889876626431942\n",
      "Test accuracy: 0.9904999732971191\n"
     ]
    }
   ],
   "source": [
    "## Evaluate the trained model\n",
    "score1 = model_1.evaluate(x_test, y_test, verbose=0)\n",
    "score2 = model_2.evaluate(x_test, y_test, verbose=0)\n",
    "score3 = model_3.evaluate(x_test, y_test, verbose=0)\n",
    "score4 = model_4.evaluate(x_test, y_test, verbose=0)\n",
    "score5 = model_5.evaluate(x_test, y_test, verbose=0)\n",
    "score6 = model_6.evaluate(x_test, y_test, verbose=0)\n",
    "score7 = model_7.evaluate(x_test, y_test, verbose=0)\n",
    "score8 = model_8.evaluate(x_test, y_test, verbose=0)\n",
    "score9 = model_9.evaluate(x_test, y_test, verbose=0)\n",
    "\n",
    "print(\"Test loss:\", score1[0])\n",
    "print(\"Test accuracy:\", score1[1])\n",
    "print(\"Test loss:\", score2[0])\n",
    "print(\"Test accuracy:\", score2[1])\n",
    "print(\"Test loss:\", score3[0])\n",
    "print(\"Test accuracy:\", score3[1])\n",
    "print(\"Test loss:\", score4[0])\n",
    "print(\"Test accuracy:\", score4[1])\n",
    "print(\"Test loss:\", score5[0])\n",
    "print(\"Test accuracy:\", score5[1])\n",
    "print(\"Test loss:\", score6[0])\n",
    "print(\"Test accuracy:\", score6[1])\n",
    "print(\"Test loss:\", score7[0])\n",
    "print(\"Test accuracy:\", score7[1])\n",
    "print(\"Test loss:\", score8[0])\n",
    "print(\"Test accuracy:\", score8[1])\n",
    "print(\"Test loss:\", score9[0])\n",
    "print(\"Test accuracy:\", score9[1])\n"
   ]
  },
  {
   "cell_type": "code",
   "execution_count": 17,
   "metadata": {},
   "outputs": [
    {
     "data": {
      "text/plain": [
       "{'loss': 0.02889876626431942, 'accuracy': 0.9904999732971191}"
      ]
     },
     "execution_count": 17,
     "metadata": {},
     "output_type": "execute_result"
    }
   ],
   "source": [
    "# Zip all data into workable dictionaries\n",
    "\n",
    "dict(zip(model_1.metrics_names, score1))\n",
    "dict(zip(model_2.metrics_names, score2))\n",
    "dict(zip(model_3.metrics_names, score3))\n",
    "dict(zip(model_4.metrics_names, score4))\n",
    "dict(zip(model_5.metrics_names, score5))\n",
    "dict(zip(model_6.metrics_names, score6))\n",
    "dict(zip(model_7.metrics_names, score7))\n",
    "dict(zip(model_8.metrics_names, score8))\n",
    "dict(zip(model_9.metrics_names, score9))"
   ]
  },
  {
   "cell_type": "code",
   "execution_count": 18,
   "metadata": {},
   "outputs": [],
   "source": [
    "# Create two different plotting functions to better see the data sets \n",
    "\n",
    "def summarize_diagnostics1(histories):\n",
    "    for i in range(len(histories)):\n",
    "        # plot loss\n",
    "        pyplot.subplot(2, 1, 1)\n",
    "        pyplot.title('Cross Entropy Loss')\n",
    "        pyplot.xlabel('Training Epochs')\n",
    "        pyplot.plot(histories[i].history['loss'], color='blue', label='train')\n",
    "        pyplot.plot(histories[i].history['val_loss'], color='orange', label='test')\n",
    "        # plot accuracy\n",
    "        pyplot.tight_layout(pad=2)\n",
    "        pyplot.subplot(2, 1, 2)\n",
    "        pyplot.title('Classification Accuracy')\n",
    "        pyplot.xlabel('Training Epochs')\n",
    "        pyplot.plot(histories[i].history['accuracy'], color='blue', label='train')\n",
    "        pyplot.plot(histories[i].history['val_accuracy'], color='orange', label='test')\n",
    "        pyplot.ylim(0.75, 1)\n",
    "    pyplot.show()\n",
    "def summarize_diagnostics2(histories):\n",
    "    for i in range(len(histories)):\n",
    "        # plot loss\n",
    "        pyplot.subplot(2, 1, 1)\n",
    "        pyplot.title('Cross Entropy Loss')\n",
    "        pyplot.xlabel('Training Epochs')\n",
    "        pyplot.plot(histories[i].history['loss'], color='blue', label='train')\n",
    "        pyplot.plot(histories[i].history['val_loss'], color='orange', label='test')\n",
    "        # plot accuracy\n",
    "        pyplot.tight_layout(pad=2)\n",
    "        pyplot.subplot(2, 1, 2)\n",
    "        pyplot.title('Classification Accuracy')\n",
    "        pyplot.xlabel('Training Epochs')\n",
    "        pyplot.plot(histories[i].history['accuracy'], color='blue', label='train')\n",
    "        pyplot.plot(histories[i].history['val_accuracy'], color='orange', label='test')\n",
    "        pyplot.ylim(0.90, 1)\n",
    "    pyplot.show()"
   ]
  },
  {
   "cell_type": "code",
   "execution_count": 19,
   "metadata": {},
   "outputs": [
    {
     "name": "stdout",
     "output_type": "stream",
     "text": [
      "10% Of training Data\n"
     ]
    },
    {
     "data": {
      "image/png": "[encoded data removed]",
      "text/plain": [
       "<Figure size 432x288 with 2 Axes>"
      ]
     },
     "metadata": {
      "needs_background": "light"
     },
     "output_type": "display_data"
    },
    {
     "name": "stdout",
     "output_type": "stream",
     "text": [
      "20% Of training Data\n"
     ]
    },
    {
     "data": {
      "image/png": "[encoded data removed]",
      "text/plain": [
       "<Figure size 432x288 with 2 Axes>"
      ]
     },
     "metadata": {
      "needs_background": "light"
     },
     "output_type": "display_data"
    },
    {
     "name": "stdout",
     "output_type": "stream",
     "text": [
      "30% Of training Data\n"
     ]
    },
    {
     "data": {
      "image/png": "[encoded data removed]",
      "text/plain": [
       "<Figure size 432x288 with 2 Axes>"
      ]
     },
     "metadata": {
      "needs_background": "light"
     },
     "output_type": "display_data"
    },
    {
     "name": "stdout",
     "output_type": "stream",
     "text": [
      "40% Of training Data\n"
     ]
    },
    {
     "data": {
      "image/png": "[encoded data removed]",
      "text/plain": [
       "<Figure size 432x288 with 2 Axes>"
      ]
     },
     "metadata": {
      "needs_background": "light"
     },
     "output_type": "display_data"
    },
    {
     "name": "stdout",
     "output_type": "stream",
     "text": [
      "50% Of training Data\n"
     ]
    },
    {
     "data": {
      "image/png": "[encoded data removed]",
      "text/plain": [
       "<Figure size 432x288 with 2 Axes>"
      ]
     },
     "metadata": {
      "needs_background": "light"
     },
     "output_type": "display_data"
    },
    {
     "name": "stdout",
     "output_type": "stream",
     "text": [
      "60% Of training Data\n"
     ]
    },
    {
     "data": {
      "image/png": "[encoded data removed]",
      "text/plain": [
       "<Figure size 432x288 with 2 Axes>"
      ]
     },
     "metadata": {
      "needs_background": "light"
     },
     "output_type": "display_data"
    },
    {
     "name": "stdout",
     "output_type": "stream",
     "text": [
      "70% Of training Data\n"
     ]
    },
    {
     "data": {
      "image/png": "[encoded data removed]",
      "text/plain": [
       "<Figure size 432x288 with 2 Axes>"
      ]
     },
     "metadata": {
      "needs_background": "light"
     },
     "output_type": "display_data"
    },
    {
     "name": "stdout",
     "output_type": "stream",
     "text": [
      "80% Of training Data\n"
     ]
    },
    {
     "data": {
      "image/png": "[encoded data removed]",
      "text/plain": [
       "<Figure size 432x288 with 2 Axes>"
      ]
     },
     "metadata": {
      "needs_background": "light"
     },
     "output_type": "display_data"
    },
    {
     "name": "stdout",
     "output_type": "stream",
     "text": [
      "90% Of training Data\n"
     ]
    },
    {
     "data": {
      "image/png": "[encoded data removed]",
      "text/plain": [
       "<Figure size 432x288 with 2 Axes>"
      ]
     },
     "metadata": {
      "needs_background": "light"
     },
     "output_type": "display_data"
    }
   ],
   "source": [
    "#Output results \n",
    "\n",
    "print(\"10% Of training Data\")\n",
    "summarize_diagnostics1([history1])\n",
    "print(\"20% Of training Data\")\n",
    "summarize_diagnostics1([history2])\n",
    "print(\"30% Of training Data\")\n",
    "summarize_diagnostics1([history3])\n",
    "print(\"40% Of training Data\")\n",
    "summarize_diagnostics1([history4])\n",
    "print(\"50% Of training Data\")\n",
    "summarize_diagnostics2([history5])\n",
    "print(\"60% Of training Data\")\n",
    "summarize_diagnostics2([history6])\n",
    "print(\"70% Of training Data\")\n",
    "summarize_diagnostics2([history7])\n",
    "print(\"80% Of training Data\")\n",
    "summarize_diagnostics2([history8])\n",
    "print(\"90% Of training Data\")\n",
    "summarize_diagnostics2([history9])\n"
   ]
  },
  {
   "cell_type": "code",
   "execution_count": 20,
   "metadata": {},
   "outputs": [],
   "source": [
    "# Run box plot for further Analysis of Part 1\n",
    "\n",
    "from numpy import mean\n",
    "from numpy import std\n",
    "def summarize_performance(scores):\n",
    "    # print summary\n",
    "    print('Accuracy: mean=%.3f std=%.3f, n=%d' % (mean(scores)*100, std(scores)*100, len(scores)))\n",
    "    # box and whisker plots of results\n",
    "    pyplot.boxplot(scores)\n",
    "    pyplot.show()\n",
    "    \n",
    "    "
   ]
  },
  {
   "cell_type": "code",
   "execution_count": 21,
   "metadata": {},
   "outputs": [
    {
     "name": "stdout",
     "output_type": "stream",
     "text": [
      "Accuracy: mean=53.038 std=44.292, n=2\n"
     ]
    },
    {
     "data": {
      "image/png": "[encoded data removed]",
      "text/plain": [
       "<Figure size 432x288 with 1 Axes>"
      ]
     },
     "metadata": {
      "needs_background": "light"
     },
     "output_type": "display_data"
    },
    {
     "name": "stdout",
     "output_type": "stream",
     "text": [
      "Accuracy: mean=52.581 std=45.389, n=2\n"
     ]
    },
    {
     "data": {
      "image/png": "[encoded data removed]",
      "text/plain": [
       "<Figure size 432x288 with 1 Axes>"
      ]
     },
     "metadata": {
      "needs_background": "light"
     },
     "output_type": "display_data"
    },
    {
     "name": "stdout",
     "output_type": "stream",
     "text": [
      "Accuracy: mean=51.570 std=46.940, n=2\n"
     ]
    },
    {
     "data": {
      "image/png": "[encoded data removed]",
      "text/plain": [
       "<Figure size 432x288 with 1 Axes>"
      ]
     },
     "metadata": {
      "needs_background": "light"
     },
     "output_type": "display_data"
    },
    {
     "name": "stdout",
     "output_type": "stream",
     "text": [
      "Accuracy: mean=51.614 std=46.916, n=2\n"
     ]
    },
    {
     "data": {
      "image/png": "[encoded data removed]",
      "text/plain": [
       "<Figure size 432x288 with 1 Axes>"
      ]
     },
     "metadata": {
      "needs_background": "light"
     },
     "output_type": "display_data"
    },
    {
     "name": "stdout",
     "output_type": "stream",
     "text": [
      "Accuracy: mean=51.259 std=47.591, n=2\n"
     ]
    },
    {
     "data": {
      "image/png": "[encoded data removed]",
      "text/plain": [
       "<Figure size 432x288 with 1 Axes>"
      ]
     },
     "metadata": {
      "needs_background": "light"
     },
     "output_type": "display_data"
    },
    {
     "name": "stdout",
     "output_type": "stream",
     "text": [
      "Accuracy: mean=51.218 std=47.702, n=2\n"
     ]
    },
    {
     "data": {
      "image/png": "[encoded data removed]",
      "text/plain": [
       "<Figure size 432x288 with 1 Axes>"
      ]
     },
     "metadata": {
      "needs_background": "light"
     },
     "output_type": "display_data"
    },
    {
     "name": "stdout",
     "output_type": "stream",
     "text": [
      "Accuracy: mean=51.390 std=47.470, n=2\n"
     ]
    },
    {
     "data": {
      "image/png": "[encoded data removed]",
      "text/plain": [
       "<Figure size 432x288 with 1 Axes>"
      ]
     },
     "metadata": {
      "needs_background": "light"
     },
     "output_type": "display_data"
    },
    {
     "name": "stdout",
     "output_type": "stream",
     "text": [
      "Accuracy: mean=51.371 std=47.439, n=2\n"
     ]
    },
    {
     "data": {
      "image/png": "[encoded data removed]",
      "text/plain": [
       "<Figure size 432x288 with 1 Axes>"
      ]
     },
     "metadata": {
      "needs_background": "light"
     },
     "output_type": "display_data"
    },
    {
     "name": "stdout",
     "output_type": "stream",
     "text": [
      "Accuracy: mean=50.970 std=48.080, n=2\n"
     ]
    },
    {
     "data": {
      "image/png": "[encoded data removed]",
      "text/plain": [
       "<Figure size 432x288 with 1 Axes>"
      ]
     },
     "metadata": {
      "needs_background": "light"
     },
     "output_type": "display_data"
    }
   ],
   "source": [
    "summarize_performance(score1)\n",
    "summarize_performance(score2)\n",
    "summarize_performance(score3)\n",
    "summarize_performance(score4)\n",
    "summarize_performance(score5)\n",
    "summarize_performance(score6)\n",
    "summarize_performance(score7)\n",
    "summarize_performance(score8)\n",
    "summarize_performance(score9)"
   ]
  },
  {
   "cell_type": "markdown",
   "metadata": {},
   "source": [
    "Analysis of Part 1: \n",
    "We can see in the analysis of the graphing portion of different training sets that the lower the training set will require more Epoch to come up to greater accuracy over time. What we can also take away from this graphing function is that the cross-entropy loss stays relatively the same throughout the training sets. This is a good measure of the data sets as it shows that we're not overfitting the training sets. We can also see that in higher numbers of training sets that the accuracy will come faster against the testing set with more trainable data. "
   ]
  },
  {
   "cell_type": "markdown",
   "metadata": {},
   "source": [
    "\n",
    "\n",
    "#### Using the MNIST dataset, Construct and evaluate a summary view of a different neural network\n",
    "\n",
    "#### Evaluate changes to the size of convolutional kernels, pooling, dense fully connected, and report on the influence to the “summary” performance of the test sets.\n",
    "\n",
    "#### Define code for a different CNN architecture base architecture and using the same training process, evaluate the effectiveness of various parameters.  Example- do your results show the smallest level of dense network needed to achieve within 1-5% of the best case.\n"
   ]
  },
  {
   "cell_type": "code",
   "execution_count": 22,
   "metadata": {},
   "outputs": [
    {
     "name": "stdout",
     "output_type": "stream",
     "text": [
      "Model: \"sequential_12\"\n",
      "_________________________________________________________________\n",
      "Layer (type)                 Output Shape              Param #   \n",
      "=================================================================\n",
      "conv2d_24 (Conv2D)           (None, 24, 24, 8)         208       \n",
      "_________________________________________________________________\n",
      "max_pooling2d_24 (MaxPooling (None, 12, 12, 8)         0         \n",
      "_________________________________________________________________\n",
      "conv2d_25 (Conv2D)           (None, 8, 8, 16)          3216      \n",
      "_________________________________________________________________\n",
      "max_pooling2d_25 (MaxPooling (None, 4, 4, 16)          0         \n",
      "_________________________________________________________________\n",
      "flatten_12 (Flatten)         (None, 256)               0         \n",
      "_________________________________________________________________\n",
      "dense_24 (Dense)             (None, 128)               32896     \n",
      "_________________________________________________________________\n",
      "dense_25 (Dense)             (None, 10)                1290      \n",
      "=================================================================\n",
      "Total params: 37,610\n",
      "Trainable params: 37,610\n",
      "Non-trainable params: 0\n",
      "_________________________________________________________________\n",
      "Model: \"sequential_13\"\n",
      "_________________________________________________________________\n",
      "Layer (type)                 Output Shape              Param #   \n",
      "=================================================================\n",
      "conv2d_26 (Conv2D)           (None, 24, 24, 16)        416       \n",
      "_________________________________________________________________\n",
      "max_pooling2d_26 (MaxPooling (None, 12, 12, 16)        0         \n",
      "_________________________________________________________________\n",
      "conv2d_27 (Conv2D)           (None, 8, 8, 32)          12832     \n",
      "_________________________________________________________________\n",
      "max_pooling2d_27 (MaxPooling (None, 4, 4, 32)          0         \n",
      "_________________________________________________________________\n",
      "flatten_13 (Flatten)         (None, 512)               0         \n",
      "_________________________________________________________________\n",
      "dense_26 (Dense)             (None, 128)               65664     \n",
      "_________________________________________________________________\n",
      "dense_27 (Dense)             (None, 10)                1290      \n",
      "=================================================================\n",
      "Total params: 80,202\n",
      "Trainable params: 80,202\n",
      "Non-trainable params: 0\n",
      "_________________________________________________________________\n",
      "Model: \"sequential_14\"\n",
      "_________________________________________________________________\n",
      "Layer (type)                 Output Shape              Param #   \n",
      "=================================================================\n",
      "conv2d_28 (Conv2D)           (None, 24, 24, 24)        624       \n",
      "_________________________________________________________________\n",
      "max_pooling2d_28 (MaxPooling (None, 12, 12, 24)        0         \n",
      "_________________________________________________________________\n",
      "conv2d_29 (Conv2D)           (None, 8, 8, 48)          28848     \n",
      "_________________________________________________________________\n",
      "max_pooling2d_29 (MaxPooling (None, 4, 4, 48)          0         \n",
      "_________________________________________________________________\n",
      "flatten_14 (Flatten)         (None, 768)               0         \n",
      "_________________________________________________________________\n",
      "dense_28 (Dense)             (None, 128)               98432     \n",
      "_________________________________________________________________\n",
      "dense_29 (Dense)             (None, 10)                1290      \n",
      "=================================================================\n",
      "Total params: 129,194\n",
      "Trainable params: 129,194\n",
      "Non-trainable params: 0\n",
      "_________________________________________________________________\n",
      "Model: \"sequential_15\"\n",
      "_________________________________________________________________\n",
      "Layer (type)                 Output Shape              Param #   \n",
      "=================================================================\n",
      "conv2d_30 (Conv2D)           (None, 24, 24, 40)        1040      \n",
      "_________________________________________________________________\n",
      "max_pooling2d_30 (MaxPooling (None, 12, 12, 40)        0         \n",
      "_________________________________________________________________\n",
      "conv2d_31 (Conv2D)           (None, 8, 8, 80)          80080     \n",
      "_________________________________________________________________\n",
      "max_pooling2d_31 (MaxPooling (None, 4, 4, 80)          0         \n",
      "_________________________________________________________________\n",
      "flatten_15 (Flatten)         (None, 1280)              0         \n",
      "_________________________________________________________________\n",
      "dense_30 (Dense)             (None, 128)               163968    \n",
      "_________________________________________________________________\n",
      "dense_31 (Dense)             (None, 10)                1290      \n",
      "=================================================================\n",
      "Total params: 246,378\n",
      "Trainable params: 246,378\n",
      "Non-trainable params: 0\n",
      "_________________________________________________________________\n",
      "Model: \"sequential_16\"\n",
      "_________________________________________________________________\n",
      "Layer (type)                 Output Shape              Param #   \n",
      "=================================================================\n",
      "conv2d_32 (Conv2D)           (None, 24, 24, 48)        1248      \n",
      "_________________________________________________________________\n",
      "max_pooling2d_32 (MaxPooling (None, 12, 12, 48)        0         \n",
      "_________________________________________________________________\n",
      "conv2d_33 (Conv2D)           (None, 8, 8, 96)          115296    \n",
      "_________________________________________________________________\n",
      "max_pooling2d_33 (MaxPooling (None, 4, 4, 96)          0         \n",
      "_________________________________________________________________\n",
      "flatten_16 (Flatten)         (None, 1536)              0         \n",
      "_________________________________________________________________\n",
      "dense_32 (Dense)             (None, 128)               196736    \n",
      "_________________________________________________________________\n",
      "dense_33 (Dense)             (None, 10)                1290      \n",
      "=================================================================\n",
      "Total params: 314,570\n",
      "Trainable params: 314,570\n",
      "Non-trainable params: 0\n",
      "_________________________________________________________________\n"
     ]
    }
   ],
   "source": [
    "# Set test model for test \n",
    "modeltest = keras.Sequential(\n",
    "    [\n",
    "        keras.Input(shape=input_shape),\n",
    "        layers.Conv2D(32, kernel_size=(3, 3), activation=\"relu\"),\n",
    "        layers.MaxPooling2D(pool_size=(2, 2)),\n",
    "        layers.Conv2D(64, kernel_size=(3, 3), activation=\"relu\"),\n",
    "        layers.MaxPooling2D(pool_size=(2, 2)),\n",
    "        layers.Flatten(),\n",
    "        layers.Dense(128, activation='relu'),\n",
    "        layers.Dense(10, activation=\"softmax\"),\n",
    "    ]\n",
    ")\n",
    "\n",
    "# Loop over 5 models increasing Dense & there for Conv2D & MaxPooling2D along the way \n",
    "\n",
    "def define_modelA():\n",
    "\n",
    "    modelA = Sequential()\n",
    "    modelA.add(Conv2D(8,kernel_size=5,activation='relu',input_shape=(28,28,1)))\n",
    "    modelA.add(MaxPooling2D())\n",
    "    modelA.add(Conv2D(16,kernel_size=5,activation='relu'))\n",
    "    modelA.add(MaxPooling2D())\n",
    "    modelA.add(Flatten())\n",
    "    modelA.add(Dense(128, activation='relu'))\n",
    "    modelA.add(Dense(10, activation='softmax'))\n",
    "    modelA.compile(optimizer=\"adam\", loss=\"categorical_crossentropy\", metrics=[\"accuracy\"])\n",
    "    return modelA\n",
    "\n",
    "def define_modelB():\n",
    "\n",
    "    modeltest = Sequential()\n",
    "    modeltest.add(Conv2D(16,kernel_size=5,activation='relu',input_shape=(28,28,1)))\n",
    "    modeltest.add(MaxPooling2D())\n",
    "    modeltest.add(Conv2D(32,kernel_size=5,activation='relu'))\n",
    "    modeltest.add(MaxPooling2D())\n",
    "    modeltest.add(Flatten())\n",
    "    modeltest.add(Dense(128, activation='relu'))\n",
    "    modeltest.add(Dense(10, activation='softmax'))\n",
    "    modeltest.compile(optimizer=\"adam\", loss=\"categorical_crossentropy\", metrics=[\"accuracy\"])\n",
    "    return modeltest\n",
    "\n",
    "def define_modelC():\n",
    "\n",
    "    modeltest = Sequential()\n",
    "    modeltest.add(Conv2D(24,kernel_size=5,activation='relu',input_shape=(28,28,1)))\n",
    "    modeltest.add(MaxPooling2D())\n",
    "    modeltest.add(Conv2D(48,kernel_size=5,activation='relu'))\n",
    "    modeltest.add(MaxPooling2D())\n",
    "    modeltest.add(Flatten())\n",
    "    modeltest.add(Dense(128, activation='relu'))\n",
    "    modeltest.add(Dense(10, activation='softmax'))\n",
    "    modeltest.compile(optimizer=\"adam\", loss=\"categorical_crossentropy\", metrics=[\"accuracy\"])\n",
    "    return modeltest\n",
    "\n",
    "def define_modelD():\n",
    "\n",
    "    modeltest = Sequential()\n",
    "    modeltest.add(Conv2D(40,kernel_size=5,activation='relu',input_shape=(28,28,1)))\n",
    "    modeltest.add(MaxPooling2D())\n",
    "    modeltest.add(Conv2D(80,kernel_size=5,activation='relu'))\n",
    "    modeltest.add(MaxPooling2D())\n",
    "    modeltest.add(Flatten())\n",
    "    modeltest.add(Dense(128, activation='relu'))\n",
    "    modeltest.add(Dense(10, activation='softmax'))\n",
    "    modeltest.compile(optimizer=\"adam\", loss=\"categorical_crossentropy\", metrics=[\"accuracy\"])\n",
    "    return modeltest\n",
    "\n",
    "def define_modelE():\n",
    "\n",
    "    modeltest = Sequential()\n",
    "    modeltest.add(Conv2D(48,kernel_size=5,activation='relu',input_shape=(28,28,1)))\n",
    "    modeltest.add(MaxPooling2D())\n",
    "    modeltest.add(Conv2D(96,kernel_size=5,activation='relu'))\n",
    "    modeltest.add(MaxPooling2D())\n",
    "    modeltest.add(Flatten())\n",
    "    modeltest.add(Dense(128, activation='relu'))\n",
    "    modeltest.add(Dense(10, activation='softmax'))\n",
    "    modeltest.compile(optimizer=\"adam\", loss=\"categorical_crossentropy\", metrics=[\"accuracy\"])\n",
    "    return modeltest\n",
    "\n",
    "# Get models\n",
    "\n",
    "modelA = define_modelA()\n",
    "modelB = define_modelB()\n",
    "modelC = define_modelC()\n",
    "modelD = define_modelD()\n",
    "modelE = define_modelE()\n",
    "\n",
    "# Print out summary of models \n",
    "\n",
    "modelA.summary()\n",
    "modelB.summary()\n",
    "modelC.summary()\n",
    "modelD.summary()\n",
    "modelE.summary()\n"
   ]
  },
  {
   "cell_type": "code",
   "execution_count": 23,
   "metadata": {},
   "outputs": [
    {
     "name": "stdout",
     "output_type": "stream",
     "text": [
      "Epoch 1/10\n",
      "422/422 [==============================] - 6s 13ms/step - loss: 0.3429 - accuracy: 0.8991 - val_loss: 0.0974 - val_accuracy: 0.9737\n",
      "Epoch 2/10\n",
      "422/422 [==============================] - 6s 13ms/step - loss: 0.0964 - accuracy: 0.9704 - val_loss: 0.0633 - val_accuracy: 0.9817\n",
      "Epoch 3/10\n",
      "422/422 [==============================] - 6s 13ms/step - loss: 0.0692 - accuracy: 0.9790 - val_loss: 0.0520 - val_accuracy: 0.9847\n",
      "Epoch 4/10\n",
      "422/422 [==============================] - 6s 13ms/step - loss: 0.0554 - accuracy: 0.9831 - val_loss: 0.0546 - val_accuracy: 0.9840\n",
      "Epoch 5/10\n",
      "422/422 [==============================] - 6s 13ms/step - loss: 0.0448 - accuracy: 0.9863 - val_loss: 0.0463 - val_accuracy: 0.9873\n",
      "Epoch 6/10\n",
      "422/422 [==============================] - 6s 13ms/step - loss: 0.0386 - accuracy: 0.9884 - val_loss: 0.0469 - val_accuracy: 0.9872\n",
      "Epoch 7/10\n",
      "422/422 [==============================] - 6s 13ms/step - loss: 0.0333 - accuracy: 0.9896 - val_loss: 0.0396 - val_accuracy: 0.9880\n",
      "Epoch 8/10\n",
      "422/422 [==============================] - 6s 13ms/step - loss: 0.0276 - accuracy: 0.9910 - val_loss: 0.0358 - val_accuracy: 0.9910\n",
      "Epoch 9/10\n",
      "422/422 [==============================] - 6s 13ms/step - loss: 0.0244 - accuracy: 0.9924 - val_loss: 0.0419 - val_accuracy: 0.9883\n",
      "Epoch 10/10\n",
      "422/422 [==============================] - 6s 13ms/step - loss: 0.0221 - accuracy: 0.9929 - val_loss: 0.0349 - val_accuracy: 0.9900\n"
     ]
    }
   ],
   "source": [
    "# Train all data\n",
    "\n",
    "historyA=modelA.fit(x_train, y_train, batch_size=batch_size, \n",
    "                     epochs=epochs,validation_data=(x_test, y_test), validation_split=0.1)"
   ]
  },
  {
   "cell_type": "code",
   "execution_count": 24,
   "metadata": {},
   "outputs": [
    {
     "name": "stdout",
     "output_type": "stream",
     "text": [
      "Epoch 1/10\n",
      "422/422 [==============================] - 3s 7ms/step - loss: 0.2607 - accuracy: 0.9254 - val_loss: 0.0719 - val_accuracy: 0.9802\n",
      "Epoch 2/10\n",
      "422/422 [==============================] - 3s 7ms/step - loss: 0.0656 - accuracy: 0.9795 - val_loss: 0.0479 - val_accuracy: 0.9870\n",
      "Epoch 3/10\n",
      "422/422 [==============================] - 3s 7ms/step - loss: 0.0447 - accuracy: 0.9867 - val_loss: 0.0398 - val_accuracy: 0.9878\n",
      "Epoch 4/10\n",
      "422/422 [==============================] - 3s 7ms/step - loss: 0.0370 - accuracy: 0.9884 - val_loss: 0.0360 - val_accuracy: 0.9905\n",
      "Epoch 5/10\n",
      "422/422 [==============================] - 3s 7ms/step - loss: 0.0301 - accuracy: 0.9909 - val_loss: 0.0380 - val_accuracy: 0.9890\n",
      "Epoch 6/10\n",
      "422/422 [==============================] - 3s 7ms/step - loss: 0.0239 - accuracy: 0.9926 - val_loss: 0.0351 - val_accuracy: 0.9888\n",
      "Epoch 7/10\n",
      "422/422 [==============================] - 3s 7ms/step - loss: 0.0197 - accuracy: 0.9937 - val_loss: 0.0351 - val_accuracy: 0.9903\n",
      "Epoch 8/10\n",
      "422/422 [==============================] - 3s 7ms/step - loss: 0.0176 - accuracy: 0.9944 - val_loss: 0.0312 - val_accuracy: 0.9913\n",
      "Epoch 9/10\n",
      "422/422 [==============================] - 3s 7ms/step - loss: 0.0146 - accuracy: 0.9953 - val_loss: 0.0349 - val_accuracy: 0.9915\n",
      "Epoch 10/10\n",
      "422/422 [==============================] - 3s 7ms/step - loss: 0.0123 - accuracy: 0.9960 - val_loss: 0.0339 - val_accuracy: 0.9917\n"
     ]
    }
   ],
   "source": [
    "historyB=modelB.fit(x_train, y_train, batch_size=batch_size, \n",
    "                     epochs=epochs,validation_data=(x_test, y_test), validation_split=0.1)"
   ]
  },
  {
   "cell_type": "code",
   "execution_count": 25,
   "metadata": {},
   "outputs": [
    {
     "name": "stdout",
     "output_type": "stream",
     "text": [
      "Epoch 1/10\n",
      "422/422 [==============================] - 3s 8ms/step - loss: 0.2192 - accuracy: 0.9350 - val_loss: 0.0664 - val_accuracy: 0.9810\n",
      "Epoch 2/10\n",
      "422/422 [==============================] - 3s 8ms/step - loss: 0.0577 - accuracy: 0.9819 - val_loss: 0.0454 - val_accuracy: 0.9872\n",
      "Epoch 3/10\n",
      "422/422 [==============================] - 3s 8ms/step - loss: 0.0414 - accuracy: 0.9865 - val_loss: 0.0532 - val_accuracy: 0.9843\n",
      "Epoch 4/10\n",
      "422/422 [==============================] - 3s 8ms/step - loss: 0.0297 - accuracy: 0.9903 - val_loss: 0.0389 - val_accuracy: 0.9878\n",
      "Epoch 5/10\n",
      "422/422 [==============================] - 3s 8ms/step - loss: 0.0242 - accuracy: 0.9922 - val_loss: 0.0319 - val_accuracy: 0.9915\n",
      "Epoch 6/10\n",
      "422/422 [==============================] - 3s 8ms/step - loss: 0.0204 - accuracy: 0.9934 - val_loss: 0.0345 - val_accuracy: 0.9903\n",
      "Epoch 7/10\n",
      "422/422 [==============================] - 3s 8ms/step - loss: 0.0165 - accuracy: 0.9946 - val_loss: 0.0336 - val_accuracy: 0.9918\n",
      "Epoch 8/10\n",
      "422/422 [==============================] - 3s 8ms/step - loss: 0.0125 - accuracy: 0.9957 - val_loss: 0.0385 - val_accuracy: 0.9902\n",
      "Epoch 9/10\n",
      "422/422 [==============================] - 3s 8ms/step - loss: 0.0107 - accuracy: 0.9966 - val_loss: 0.0371 - val_accuracy: 0.9913\n",
      "Epoch 10/10\n",
      "422/422 [==============================] - 3s 8ms/step - loss: 0.0088 - accuracy: 0.9971 - val_loss: 0.0370 - val_accuracy: 0.9913\n"
     ]
    }
   ],
   "source": [
    "historyC=modelC.fit(x_train, y_train, batch_size=batch_size, \n",
    "                     epochs=epochs,validation_data=(x_test, y_test), validation_split=0.1)"
   ]
  },
  {
   "cell_type": "code",
   "execution_count": 26,
   "metadata": {},
   "outputs": [
    {
     "name": "stdout",
     "output_type": "stream",
     "text": [
      "Epoch 1/10\n",
      "422/422 [==============================] - 5s 12ms/step - loss: 0.1955 - accuracy: 0.9420 - val_loss: 0.0677 - val_accuracy: 0.9800\n",
      "Epoch 2/10\n",
      "422/422 [==============================] - 5s 11ms/step - loss: 0.0507 - accuracy: 0.9844 - val_loss: 0.0399 - val_accuracy: 0.9887\n",
      "Epoch 3/10\n",
      "422/422 [==============================] - 5s 11ms/step - loss: 0.0332 - accuracy: 0.9893 - val_loss: 0.0338 - val_accuracy: 0.9902\n",
      "Epoch 4/10\n",
      "422/422 [==============================] - 5s 11ms/step - loss: 0.0243 - accuracy: 0.9927 - val_loss: 0.0354 - val_accuracy: 0.9905\n",
      "Epoch 5/10\n",
      "422/422 [==============================] - 5s 11ms/step - loss: 0.0179 - accuracy: 0.9944 - val_loss: 0.0332 - val_accuracy: 0.9900\n",
      "Epoch 6/10\n",
      "422/422 [==============================] - 5s 11ms/step - loss: 0.0149 - accuracy: 0.9951 - val_loss: 0.0324 - val_accuracy: 0.9910\n",
      "Epoch 7/10\n",
      "422/422 [==============================] - 5s 11ms/step - loss: 0.0129 - accuracy: 0.9956 - val_loss: 0.0302 - val_accuracy: 0.9922\n",
      "Epoch 8/10\n",
      "422/422 [==============================] - 5s 11ms/step - loss: 0.0093 - accuracy: 0.9970 - val_loss: 0.0340 - val_accuracy: 0.9922\n",
      "Epoch 9/10\n",
      "422/422 [==============================] - 5s 11ms/step - loss: 0.0088 - accuracy: 0.9971 - val_loss: 0.0357 - val_accuracy: 0.9907\n",
      "Epoch 10/10\n",
      "422/422 [==============================] - 5s 11ms/step - loss: 0.0072 - accuracy: 0.9976 - val_loss: 0.0367 - val_accuracy: 0.9925\n"
     ]
    }
   ],
   "source": [
    "historyD=modelD.fit(x_train, y_train, batch_size=batch_size, \n",
    "                     epochs=epochs,validation_data=(x_test, y_test), validation_split=0.1)"
   ]
  },
  {
   "cell_type": "code",
   "execution_count": 27,
   "metadata": {},
   "outputs": [
    {
     "name": "stdout",
     "output_type": "stream",
     "text": [
      "Epoch 1/10\n",
      "422/422 [==============================] - 5s 13ms/step - loss: 0.1817 - accuracy: 0.9450 - val_loss: 0.0584 - val_accuracy: 0.9827\n",
      "Epoch 2/10\n",
      "422/422 [==============================] - 5s 13ms/step - loss: 0.0451 - accuracy: 0.9859 - val_loss: 0.0392 - val_accuracy: 0.9877\n",
      "Epoch 3/10\n",
      "422/422 [==============================] - 5s 13ms/step - loss: 0.0290 - accuracy: 0.9911 - val_loss: 0.0309 - val_accuracy: 0.9907\n",
      "Epoch 4/10\n",
      "422/422 [==============================] - 5s 13ms/step - loss: 0.0212 - accuracy: 0.9936 - val_loss: 0.0295 - val_accuracy: 0.9923\n",
      "Epoch 5/10\n",
      "422/422 [==============================] - 5s 13ms/step - loss: 0.0162 - accuracy: 0.9946 - val_loss: 0.0273 - val_accuracy: 0.9935\n",
      "Epoch 6/10\n",
      "422/422 [==============================] - 5s 13ms/step - loss: 0.0136 - accuracy: 0.9956 - val_loss: 0.0284 - val_accuracy: 0.9927\n",
      "Epoch 7/10\n",
      "422/422 [==============================] - 5s 13ms/step - loss: 0.0106 - accuracy: 0.9966 - val_loss: 0.0336 - val_accuracy: 0.9903\n",
      "Epoch 8/10\n",
      "422/422 [==============================] - 5s 13ms/step - loss: 0.0079 - accuracy: 0.9976 - val_loss: 0.0281 - val_accuracy: 0.9925\n",
      "Epoch 9/10\n",
      "422/422 [==============================] - 5s 13ms/step - loss: 0.0089 - accuracy: 0.9970 - val_loss: 0.0339 - val_accuracy: 0.9918\n",
      "Epoch 10/10\n",
      "422/422 [==============================] - 5s 13ms/step - loss: 0.0061 - accuracy: 0.9979 - val_loss: 0.0360 - val_accuracy: 0.9923\n"
     ]
    }
   ],
   "source": [
    "historyE=modelE.fit(x_train, y_train, batch_size=batch_size, \n",
    "                     epochs=epochs,validation_data=(x_test, y_test), validation_split=0.1)"
   ]
  },
  {
   "cell_type": "code",
   "execution_count": 28,
   "metadata": {},
   "outputs": [
    {
     "name": "stdout",
     "output_type": "stream",
     "text": [
      "Test loss: 0.030736608430743217\n",
      "Test accuracy: 0.9905999898910522\n",
      "Test loss: 0.028934674337506294\n",
      "Test accuracy: 0.9918000102043152\n",
      "Test loss: 0.030278174206614494\n",
      "Test accuracy: 0.9904000163078308\n",
      "Test loss: 0.026444533839821815\n",
      "Test accuracy: 0.9921000003814697\n",
      "Test loss: 0.02652825601398945\n",
      "Test accuracy: 0.9933000206947327\n"
     ]
    }
   ],
   "source": [
    "## Evaluate the trained model\n",
    "scoreA = modelA.evaluate(x_test, y_test, verbose=0)\n",
    "scoreB = modelB.evaluate(x_test, y_test, verbose=0)\n",
    "scoreC = modelC.evaluate(x_test, y_test, verbose=0)\n",
    "scoreD = modelD.evaluate(x_test, y_test, verbose=0)\n",
    "scoreE = modelE.evaluate(x_test, y_test, verbose=0)\n",
    "\n",
    "print(\"Test loss:\", scoreA[0])\n",
    "print(\"Test accuracy:\", scoreA[1])\n",
    "print(\"Test loss:\", scoreB[0])\n",
    "print(\"Test accuracy:\", scoreB[1])\n",
    "print(\"Test loss:\", scoreC[0])\n",
    "print(\"Test accuracy:\", scoreC[1])\n",
    "print(\"Test loss:\", scoreD[0])\n",
    "print(\"Test accuracy:\", scoreD[1])\n",
    "print(\"Test loss:\", scoreE[0])\n",
    "print(\"Test accuracy:\", scoreE[1])\n"
   ]
  },
  {
   "cell_type": "code",
   "execution_count": 29,
   "metadata": {},
   "outputs": [
    {
     "data": {
      "text/plain": [
       "{'loss': 0.02652825601398945, 'accuracy': 0.9933000206947327}"
      ]
     },
     "execution_count": 29,
     "metadata": {},
     "output_type": "execute_result"
    }
   ],
   "source": [
    "dict(zip(modelA.metrics_names, scoreA))\n",
    "dict(zip(modelB.metrics_names, scoreB))\n",
    "dict(zip(modelC.metrics_names, scoreC))\n",
    "dict(zip(modelD.metrics_names, scoreD))\n",
    "dict(zip(modelE.metrics_names, scoreE))\n"
   ]
  },
  {
   "cell_type": "code",
   "execution_count": 30,
   "metadata": {},
   "outputs": [
    {
     "name": "stdout",
     "output_type": "stream",
     "text": [
      "modelA\n"
     ]
    },
    {
     "data": {
      "image/png": "[encoded data removed]",
      "text/plain": [
       "<Figure size 432x288 with 2 Axes>"
      ]
     },
     "metadata": {
      "needs_background": "light"
     },
     "output_type": "display_data"
    },
    {
     "name": "stdout",
     "output_type": "stream",
     "text": [
      "modelB\n"
     ]
    },
    {
     "data": {
      "image/png": "[encoded data removed]",
      "text/plain": [
       "<Figure size 432x288 with 2 Axes>"
      ]
     },
     "metadata": {
      "needs_background": "light"
     },
     "output_type": "display_data"
    },
    {
     "name": "stdout",
     "output_type": "stream",
     "text": [
      "modelC\n"
     ]
    },
    {
     "data": {
      "image/png": "[encoded data removed]",
      "text/plain": [
       "<Figure size 432x288 with 2 Axes>"
      ]
     },
     "metadata": {
      "needs_background": "light"
     },
     "output_type": "display_data"
    },
    {
     "name": "stdout",
     "output_type": "stream",
     "text": [
      "modelD\n"
     ]
    },
    {
     "data": {
      "image/png": "[encoded data removed]",
      "text/plain": [
       "<Figure size 432x288 with 2 Axes>"
      ]
     },
     "metadata": {
      "needs_background": "light"
     },
     "output_type": "display_data"
    },
    {
     "name": "stdout",
     "output_type": "stream",
     "text": [
      "modelE\n"
     ]
    },
    {
     "data": {
      "image/png": "[encoded data removed]",
      "text/plain": [
       "<Figure size 432x288 with 2 Axes>"
      ]
     },
     "metadata": {
      "needs_background": "light"
     },
     "output_type": "display_data"
    }
   ],
   "source": [
    "print(\"modelA\")\n",
    "summarize_diagnostics2([historyA])\n",
    "print(\"modelB\")\n",
    "summarize_diagnostics2([historyB])\n",
    "print(\"modelC\")\n",
    "summarize_diagnostics2([historyC])\n",
    "print(\"modelD\")\n",
    "summarize_diagnostics2([historyD])\n",
    "print(\"modelE\")\n",
    "summarize_diagnostics2([historyE])"
   ]
  },
  {
   "cell_type": "markdown",
   "metadata": {},
   "source": [
    "Analysis: \n",
    "\n",
    "In looking into the architecture of different models constructed in smallVGG, we once again look into the graphs of output that they produce. Most notably, we need to look into the summary of each model output. With increasing the dense function, we also increase the Convolutional 2 dimensional layer along with the density of the model. In doing this, we increase the total parameters trained, the trainable parameters in order to gain a higher accuracy on output. In defining the models such as this we can see the effectiveness of various parameters within the neural network. In evaluating the base model versus the newly created models, we can even see that the higher density model in model E creates a greater accurate training model. I will be using this model to complete part number 3 in practice. \n"
   ]
  },
  {
   "cell_type": "markdown",
   "metadata": {},
   "source": [
    "\n",
    "\n",
    "#### In the evaluation of the neural networks, you should have finished complete model develop (training set generation and training process). \n",
    "\n",
    "#### Build the confusion matrix for the MNIST x_test input to show which categories are the best predicted and worst predicted.\n",
    "\n",
    "#### Use sckit-learn tools to generate results of sensitivity/specificity and precision/recall.\n"
   ]
  },
  {
   "cell_type": "code",
   "execution_count": 31,
   "metadata": {},
   "outputs": [
    {
     "name": "stdout",
     "output_type": "stream",
     "text": [
      "[[1.6947561e-14 3.7070168e-13 3.3663200e-10 ... 1.0000000e+00\n",
      "  1.8791461e-11 1.6860437e-11]\n",
      " [6.7908568e-11 2.5676508e-11 1.0000000e+00 ... 2.0208628e-17\n",
      "  2.6998855e-16 5.0510973e-16]\n",
      " [3.7440719e-07 9.9997163e-01 9.2288097e-08 ... 2.5723504e-05\n",
      "  9.9248575e-07 2.1428045e-08]\n",
      " ...\n",
      " [7.7749232e-22 7.7884015e-14 5.4038197e-17 ... 4.4364243e-12\n",
      "  3.0477156e-13 9.7339522e-14]\n",
      " [3.7780639e-16 3.2831493e-18 8.4251648e-20 ... 1.2542073e-18\n",
      "  1.3171144e-09 1.4726831e-13]\n",
      " [5.4838534e-13 3.7060039e-14 4.8171654e-11 ... 7.8266201e-20\n",
      "  7.0531016e-13 5.1947861e-15]]\n"
     ]
    }
   ],
   "source": [
    "# Using Model E\n",
    "\n",
    "results = modelE.predict(x_test,verbose=0)\n",
    "print (results)"
   ]
  },
  {
   "cell_type": "code",
   "execution_count": 32,
   "metadata": {},
   "outputs": [
    {
     "name": "stdout",
     "output_type": "stream",
     "text": [
      "WARNING:tensorflow:From <ipython-input-32-fcdea0e050a5>:1: Sequential.predict_classes (from tensorflow.python.keras.engine.sequential) is deprecated and will be removed after 2021-01-01.\n",
      "Instructions for updating:\n",
      "Please use instead:* `np.argmax(model.predict(x), axis=-1)`,   if your model does multi-class classification   (e.g. if it uses a `softmax` last-layer activation).* `(model.predict(x) > 0.5).astype(\"int32\")`,   if your model does binary classification   (e.g. if it uses a `sigmoid` last-layer activation).\n",
      "[7 2 1 ... 4 5 6]\n"
     ]
    }
   ],
   "source": [
    "predict_results = modelE.predict_classes(x_test)\n",
    "print (predict_results)"
   ]
  },
  {
   "cell_type": "code",
   "execution_count": 33,
   "metadata": {},
   "outputs": [
    {
     "name": "stdout",
     "output_type": "stream",
     "text": [
      "7 [0. 0. 0. 0. 0. 0. 0. 1. 0. 0.]\n",
      "2 [0. 0. 1. 0. 0. 0. 0. 0. 0. 0.]\n",
      "1 [0. 1. 0. 0. 0. 0. 0. 0. 0. 0.]\n",
      "0 [1. 0. 0. 0. 0. 0. 0. 0. 0. 0.]\n",
      "4 [0. 0. 0. 0. 1. 0. 0. 0. 0. 0.]\n",
      "1 [0. 1. 0. 0. 0. 0. 0. 0. 0. 0.]\n",
      "4 [0. 0. 0. 0. 1. 0. 0. 0. 0. 0.]\n",
      "9 [0. 0. 0. 0. 0. 0. 0. 0. 0. 1.]\n",
      "5 [0. 0. 0. 0. 0. 1. 0. 0. 0. 0.]\n",
      "9 [0. 0. 0. 0. 0. 0. 0. 0. 0. 1.]\n",
      "0 [1. 0. 0. 0. 0. 0. 0. 0. 0. 0.]\n",
      "6 [0. 0. 0. 0. 0. 0. 1. 0. 0. 0.]\n",
      "9 [0. 0. 0. 0. 0. 0. 0. 0. 0. 1.]\n",
      "0 [1. 0. 0. 0. 0. 0. 0. 0. 0. 0.]\n",
      "1 [0. 1. 0. 0. 0. 0. 0. 0. 0. 0.]\n",
      "5 [0. 0. 0. 0. 0. 1. 0. 0. 0. 0.]\n",
      "9 [0. 0. 0. 0. 0. 0. 0. 0. 0. 1.]\n",
      "7 [0. 0. 0. 0. 0. 0. 0. 1. 0. 0.]\n",
      "3 [0. 0. 0. 1. 0. 0. 0. 0. 0. 0.]\n",
      "4 [0. 0. 0. 0. 1. 0. 0. 0. 0. 0.]\n"
     ]
    }
   ],
   "source": [
    "# How do the predictions look compared to the actual ground truth of y_test\n",
    "for index in range(20):\n",
    "    print (predict_results[index], y_test[index])"
   ]
  },
  {
   "cell_type": "code",
   "execution_count": 34,
   "metadata": {},
   "outputs": [
    {
     "name": "stdout",
     "output_type": "stream",
     "text": [
      "7 7\n",
      "2 2\n",
      "1 1\n",
      "0 0\n",
      "4 4\n",
      "1 1\n",
      "4 4\n",
      "9 9\n",
      "5 5\n",
      "9 9\n",
      "0 0\n",
      "6 6\n",
      "9 9\n",
      "0 0\n",
      "1 1\n",
      "5 5\n",
      "9 9\n",
      "7 7\n",
      "3 3\n",
      "4 4\n"
     ]
    }
   ],
   "source": [
    "from sklearn.metrics import confusion_matrix\n",
    "from sklearn import svm\n",
    "for index in range(20):\n",
    "    print (predict_results[index], np.argmax(y_test[index], axis=-1))\n",
    "    #cnf_matrix = confusion_matrix(y_test[index], predict_results[index])\n",
    "\n",
    "#np.set_printoptions(precision=2)"
   ]
  },
  {
   "cell_type": "code",
   "execution_count": 35,
   "metadata": {},
   "outputs": [
    {
     "name": "stdout",
     "output_type": "stream",
     "text": [
      "\n",
      "Class propbabilities for test image 0\n",
      "[1.6947561e-14 3.7070168e-13 3.3663200e-10 6.1201288e-10 8.2125990e-18\n",
      " 1.1767160e-11 1.4056740e-19 1.0000000e+00 1.8791461e-11 1.6860437e-11]\n",
      "\n",
      "Prdicted class for test image 0: 7\n",
      "Actual classification for test image 0: [0. 0. 0. 0. 0. 0. 0. 1. 0. 0.]\n"
     ]
    }
   ],
   "source": [
    "# Make predictions\n",
    "predictions = modelE.predict(x_test)\n",
    "print ('\\nClass propbabilities for test image 0')\n",
    "print (predictions[0])\n",
    "print ('\\nPrdicted class for test image 0:', np.argmax(predictions[0]))\n",
    "print ('Actual classification for test image 0:', y_test[0])"
   ]
  },
  {
   "cell_type": "code",
   "execution_count": 36,
   "metadata": {},
   "outputs": [
    {
     "name": "stdout",
     "output_type": "stream",
     "text": [
      "Confusion matrix, without normalization\n",
      "[[ 974    1    0    0    0    1    1    1    2    0]\n",
      " [   0 1128    1    2    0    0    2    1    1    0]\n",
      " [   0    0 1029    0    0    0    0    3    0    0]\n",
      " [   0    0    1 1008    0    1    0    0    0    0]\n",
      " [   0    0    0    0  976    0    1    0    1    4]\n",
      " [   0    0    0    7    0  883    1    0    0    1]\n",
      " [   1    2    0    0    1    1  953    0    0    0]\n",
      " [   0    1    3    1    0    0    0 1021    1    1]\n",
      " [   0    0    1    1    0    1    0    0  968    3]\n",
      " [   0    0    0    2    5    5    0    4    0  993]]\n",
      "Normalized confusion matrix\n",
      "[[9.94e-01 1.02e-03 0.00e+00 0.00e+00 0.00e+00 1.02e-03 1.02e-03 1.02e-03\n",
      "  2.04e-03 0.00e+00]\n",
      " [0.00e+00 9.94e-01 8.81e-04 1.76e-03 0.00e+00 0.00e+00 1.76e-03 8.81e-04\n",
      "  8.81e-04 0.00e+00]\n",
      " [0.00e+00 0.00e+00 9.97e-01 0.00e+00 0.00e+00 0.00e+00 0.00e+00 2.91e-03\n",
      "  0.00e+00 0.00e+00]\n",
      " [0.00e+00 0.00e+00 9.90e-04 9.98e-01 0.00e+00 9.90e-04 0.00e+00 0.00e+00\n",
      "  0.00e+00 0.00e+00]\n",
      " [0.00e+00 0.00e+00 0.00e+00 0.00e+00 9.94e-01 0.00e+00 1.02e-03 0.00e+00\n",
      "  1.02e-03 4.07e-03]\n",
      " [0.00e+00 0.00e+00 0.00e+00 7.85e-03 0.00e+00 9.90e-01 1.12e-03 0.00e+00\n",
      "  0.00e+00 1.12e-03]\n",
      " [1.04e-03 2.09e-03 0.00e+00 0.00e+00 1.04e-03 1.04e-03 9.95e-01 0.00e+00\n",
      "  0.00e+00 0.00e+00]\n",
      " [0.00e+00 9.73e-04 2.92e-03 9.73e-04 0.00e+00 0.00e+00 0.00e+00 9.93e-01\n",
      "  9.73e-04 9.73e-04]\n",
      " [0.00e+00 0.00e+00 1.03e-03 1.03e-03 0.00e+00 1.03e-03 0.00e+00 0.00e+00\n",
      "  9.94e-01 3.08e-03]\n",
      " [0.00e+00 0.00e+00 0.00e+00 1.98e-03 4.96e-03 4.96e-03 0.00e+00 3.96e-03\n",
      "  0.00e+00 9.84e-01]]\n"
     ]
    },
    {
     "data": {
      "image/png": "[encoded data removed]",
      "text/plain": [
       "<Figure size 432x288 with 2 Axes>"
      ]
     },
     "metadata": {
      "needs_background": "light"
     },
     "output_type": "display_data"
    },
    {
     "data": {
      "image/png": "[encoded data removed]",
      "text/plain": [
       "<Figure size 432x288 with 2 Axes>"
      ]
     },
     "metadata": {
      "needs_background": "light"
     },
     "output_type": "display_data"
    }
   ],
   "source": [
    "# SHOW CONFUSION MATRIX\n",
    "import itertools\n",
    "def plot_confusion_matrix(cm, classes,\n",
    "                          normalize=False,\n",
    "                          title='Confusion Matrix',\n",
    "                          cmap=plt.cm.Greens):\n",
    "    if normalize:\n",
    "        cm = cm.astype('float') / cm.sum(axis=1)[:, np.newaxis]\n",
    "        print(\"Normalized confusion matrix\")\n",
    "    else:\n",
    "        print('Confusion matrix, without normalization')\n",
    "\n",
    "    print(cm)\n",
    "\n",
    "    plt.imshow(cm, interpolation='nearest', cmap=cmap)\n",
    "    plt.title(title)\n",
    "    plt.colorbar()\n",
    "    tick_marks = np.arange(len(classes))\n",
    "    plt.xticks(tick_marks, classes, rotation=45)\n",
    "    plt.yticks(tick_marks, classes)\n",
    "\n",
    "    fmt = '.2f' if normalize else 'd'\n",
    "    thresh = cm.max() / 2.\n",
    "    for i, j in itertools.product(range(cm.shape[0]), range(cm.shape[1])):\n",
    "        plt.text(j, i, format(cm[i, j], fmt),\n",
    "                 horizontalalignment=\"center\",\n",
    "                 color=\"white\" if cm[i, j] > thresh else \"black\")\n",
    "\n",
    "    plt.ylabel('True label')\n",
    "    plt.xlabel('Predicted label')\n",
    "    plt.tight_layout()\n",
    "    \n",
    "# Set up data for output \n",
    "\n",
    "y_pred = np.argmax(predictions, axis=-1)\n",
    "send = np.argmax(y_test, axis=-1)\n",
    "cnf_matrix = confusion_matrix(send, y_pred)\n",
    "np.set_printoptions(precision=2) # set NumPy to 2 decimal places\n",
    "class_names = ['Zero','One', 'Two', 'Three', 'Four', 'Five', 'Six', 'Seven', 'Eight', 'Nine']\n",
    "\n",
    "# Show Confusion matrix\n",
    "plt.figure()\n",
    "\n",
    "plot_confusion_matrix(cnf_matrix, classes=class_names,\n",
    "                      title='Confusion matrix, without normalization')\n",
    "\n",
    "plt.figure()\n",
    "plot_confusion_matrix(cnf_matrix, classes=class_names, normalize=True,\n",
    "                      title='Normalized confusion matrix')\n"
   ]
  },
  {
   "cell_type": "code",
   "execution_count": 39,
   "metadata": {},
   "outputs": [
    {
     "name": "stdout",
     "output_type": "stream",
     "text": [
      "Confusion Matrix : \n",
      " [[ 974    1    0    0    0    1    1    1    2    0]\n",
      " [   0 1128    1    2    0    0    2    1    1    0]\n",
      " [   0    0 1029    0    0    0    0    3    0    0]\n",
      " [   0    0    1 1008    0    1    0    0    0    0]\n",
      " [   0    0    0    0  976    0    1    0    1    4]\n",
      " [   0    0    0    7    0  883    1    0    0    1]\n",
      " [   1    2    0    0    1    1  953    0    0    0]\n",
      " [   0    1    3    1    0    0    0 1021    1    1]\n",
      " [   0    0    1    1    0    1    0    0  968    3]\n",
      " [   0    0    0    2    5    5    0    4    0  993]]\n",
      "Accuracy :  0.2102\n",
      "Sensitivity :  0.9989743589743589\n",
      "Specificity :  1.0\n",
      "\n",
      "\n",
      "Classification Report\n",
      "              precision    recall  f1-score   support\n",
      "\n",
      "        Zero       1.00      0.99      1.00       980\n",
      "         One       1.00      0.99      1.00      1135\n",
      "         Two       0.99      1.00      1.00      1032\n",
      "       Three       0.99      1.00      0.99      1010\n",
      "        Four       0.99      0.99      0.99       982\n",
      "        Five       0.99      0.99      0.99       892\n",
      "         Six       0.99      0.99      0.99       958\n",
      "       Seven       0.99      0.99      0.99      1028\n",
      "       Eight       0.99      0.99      0.99       974\n",
      "        Nine       0.99      0.98      0.99      1009\n",
      "\n",
      "    accuracy                           0.99     10000\n",
      "   macro avg       0.99      0.99      0.99     10000\n",
      "weighted avg       0.99      0.99      0.99     10000\n",
      "\n"
     ]
    }
   ],
   "source": [
    "# generate results of sensitivity/specificity and precision/recall.\n",
    "\n",
    "from sklearn.metrics import classification_report\n",
    "\n",
    "cm_report = confusion_matrix(send, y_pred)\n",
    "print('Confusion Matrix : \\n', cm_report)\n",
    "total=sum(sum(cm_report))\n",
    "\n",
    "accuracy=(cm_report [0,0]+cm_report [1,1])/total\n",
    "print ('Accuracy : ', accuracy)\n",
    "\n",
    "sensitivity = cm_report [0,0]/(cm_report [0,0]+cm_report [0,1])\n",
    "print('Sensitivity : ', sensitivity)\n",
    "\n",
    "specificity = cm_report[1,1]/(cm_report[1,0]+cm_report[1,1])\n",
    "print('Specificity : ', specificity)\n",
    "\n",
    "print(\"\\n\")\n",
    "print(\"Classification Report\")\n",
    "\n",
    "print(classification_report(send, y_pred, target_names=class_names))\n",
    "\n"
   ]
  },
  {
   "cell_type": "markdown",
   "metadata": {},
   "source": [
    "Analysis:\n",
    "\n",
    "We can see that our model actually preformed great! When we look into the confusion matrix, we are really looking into how well the model failed against all the inputs and the gathered outputs. We can see that most if not all the data from the inputted guesses where almost dead on. Im extremely happy with this model E. There might be some false positives within the model but since we have such a high output of good guesses the learning objective was achieved. \n"
   ]
  },
  {
   "cell_type": "markdown",
   "metadata": {},
   "source": [
    "#### The rest of the program is just saving the model and looking into more aspects of the trained model. "
   ]
  },
  {
   "cell_type": "code",
   "execution_count": 40,
   "metadata": {},
   "outputs": [],
   "source": [
    "# Save the model\n",
    "modelE.save('basemodel_MNIST.h5')"
   ]
  },
  {
   "cell_type": "code",
   "execution_count": 41,
   "metadata": {},
   "outputs": [],
   "source": [
    "# Load the model\n",
    "test_model = load_model('basemodel_MNIST.h5')"
   ]
  },
  {
   "cell_type": "code",
   "execution_count": 42,
   "metadata": {},
   "outputs": [
    {
     "name": "stdout",
     "output_type": "stream",
     "text": [
      "(28, 28, 1)\n"
     ]
    },
    {
     "data": {
      "image/png": "[encoded data removed]",
      "text/plain": [
       "<Figure size 432x288 with 1 Axes>"
      ]
     },
     "metadata": {
      "needs_background": "light"
     },
     "output_type": "display_data"
    }
   ],
   "source": [
    "one_test = np.array(x_test[560])\n",
    "print (one_test.shape)\n",
    "\n",
    "plt.imshow(one_test,cmap=pyplot.get_cmap('gray'))\n",
    "plt.axis('off')\n",
    "plt.show()"
   ]
  },
  {
   "cell_type": "code",
   "execution_count": 43,
   "metadata": {},
   "outputs": [
    {
     "name": "stdout",
     "output_type": "stream",
     "text": [
      "(1, 28, 28, 1)\n",
      "original model [3]\n",
      "re-loaded model [9]\n"
     ]
    }
   ],
   "source": [
    "# Need to expand the dimension in the front because the network was trained to take in an array of tensors\n",
    "one_test = np.expand_dims(one_test, axis=0)\n",
    "\n",
    "print (one_test.shape)\n",
    "prediction = model.predict_classes(one_test)\n",
    "\n",
    "print ('original model', prediction)\n",
    "\n",
    "prediction = test_model.predict_classes(one_test)\n",
    "\n",
    "print ('re-loaded model', prediction)"
   ]
  },
  {
   "cell_type": "code",
   "execution_count": 44,
   "metadata": {},
   "outputs": [
    {
     "name": "stdout",
     "output_type": "stream",
     "text": [
      "8\n"
     ]
    }
   ],
   "source": [
    "# Let's practice on real data\n",
    "(prac_x_train, prac_y_train), (prac_x_test, prac_y_test) = keras.datasets.mnist.load_data()\n",
    "# Let's create an image file: this is from raw data not scaled \n",
    "cv2.imwrite('test_image_cv.jpg',prac_x_train[144] ) \n",
    "print (prac_y_train[144])\n"
   ]
  },
  {
   "cell_type": "code",
   "execution_count": 45,
   "metadata": {},
   "outputs": [
    {
     "data": {
      "image/png": "[encoded data removed]",
      "text/plain": [
       "<Figure size 432x288 with 1 Axes>"
      ]
     },
     "metadata": {
      "needs_background": "light"
     },
     "output_type": "display_data"
    }
   ],
   "source": [
    "test_img = cv2.imread('test_image_cv.jpg', cv2.COLOR_BGR2GRAY) \n",
    "\n",
    "plt.imshow(test_img,cmap=pyplot.get_cmap('gray'))\n",
    "plt.axis('off')\n",
    "plt.show()"
   ]
  },
  {
   "cell_type": "code",
   "execution_count": 46,
   "metadata": {},
   "outputs": [
    {
     "name": "stdout",
     "output_type": "stream",
     "text": [
      "(1, 28, 28, 1)\n",
      "original model [8]\n",
      "re-loaded model [8]\n"
     ]
    }
   ],
   "source": [
    "test_img = test_img.astype(\"float32\") / 255\n",
    "# Make sure images have shape (28, 28, 1)\n",
    "test_img = np.expand_dims(test_img, -1)\n",
    "\n",
    "one_test = np.expand_dims(test_img, axis=0)\n",
    "\n",
    "print (one_test.shape)\n",
    "prediction = model.predict_classes(one_test)\n",
    "\n",
    "print ('original model', prediction)\n",
    "\n",
    "prediction = test_model.predict_classes(one_test)\n",
    "\n",
    "print ('re-loaded model', prediction)"
   ]
  }
 ],
 "metadata": {
  "kernelspec": {
   "display_name": "Python 3",
   "language": "python",
   "name": "python3"
  },
  "language_info": {
   "codemirror_mode": {
    "name": "ipython",
    "version": 3
   },
   "file_extension": ".py",
   "mimetype": "text/x-python",
   "name": "python",
   "nbconvert_exporter": "python",
   "pygments_lexer": "ipython3",
   "version": "3.8.6"
  }
 },
 "nbformat": 4,
 "nbformat_minor": 4
}
