{
 "cells": [
  {
   "cell_type": "markdown",
   "metadata": {},
   "source": [
    "#### Evaluate 5 distinct block-matching algorithms: Fullsearch, 3SS, 4SS, HexBM, and DiamondBM. In each case, the image table is already generated although your solution should work for any size numpy array. The scores in the table represent grayscale image values. \n",
    "#### Each evaluation algorithm will use the image table.  Use the score cell as the starting center: (8,8), although this should be programmable or used as default to select the center of an NxN size image array.\n"
   ]
  },
  {
   "cell_type": "code",
   "execution_count": 85,
   "metadata": {},
   "outputs": [],
   "source": [
    "import numpy as np\n",
    "import argparse\n",
    "import imutils\n",
    "import time\n",
    "import cv2\n",
    "import matplotlib.pyplot as plt\n",
    "import tensorflow as tf\n",
    "import pandas as pd\n",
    "import pprint\n",
    "import math\n",
    "\n",
    "#Push physical devices list for GPU \n",
    "physical_devices = tf.config.list_physical_devices('GPU')\n",
    "try:\n",
    "# Disable all GPUS\n",
    "    tf.config.set_visible_devices([], 'GPU')\n",
    "    visible_devices = tf.config.get_visible_devices()\n",
    "    for device in visible_devices:\n",
    "        assert device.device_type != 'GPU'\n",
    "except:\n",
    "# Invalid device or cannot modify virtual devices once initialized.\n",
    "    pass\n",
    "    "
   ]
  },
  {
   "cell_type": "code",
   "execution_count": 86,
   "metadata": {},
   "outputs": [
    {
     "name": "stdout",
     "output_type": "stream",
     "text": [
      "255\n",
      "Raw Array\n",
      "[[178 228  14 164 246 210  82  79  14 157 230 154 145 204  28 178]\n",
      " [239 104 202 194  64  21 225 182 255  50 100 215  75 177 118 239]\n",
      " [216 155  78 195  38   3 105 101  92 172 179  24  21  43 172 216]\n",
      " [110  99 189  54 187  86  29 167  32 140  91 189  10  46 123 110]\n",
      " [ 28 172 166 157  34  35  18 118  74 241 119  88 146  92 212  28]\n",
      " [ 61  97 165 129 222  93 223  56  57 215 155 242 102 121 249  61]\n",
      " [149  69  22 220  77 146  47  68 232 203  16 221 150  65 225 149]\n",
      " [135 100 192 110 174 131  41 248 141 124  19 178 180 201  51 135]\n",
      " [251 117 102  31  57 161 146 123 244 161  61  51  41  33 158 251]\n",
      " [ 47 235 136 252 186  65 145 138 159 228 169 195  66 244  56  47]\n",
      " [165  63 194 127  53  79   3  21  85   8 185  41 212 141  38 165]\n",
      " [ 20 249 177  38  50 227 156 144  49  41 230 245  49 245 253  20]\n",
      " [195 121  21  95 197 243 116 230 235   4  86 204 191 148 150 195]\n",
      " [224  26 207  78  12  95 189  67 105  72 212 215 245 249  60 224]\n",
      " [  5   8   7  98 233 176 124 251 220 129  82 236 222 137   7   5]\n",
      " [178 228  14 164 246 210  82  79  14 157 230 154 145 204  28 178]]\n",
      "\n",
      "\n"
     ]
    },
    {
     "data": {
      "image/png": "[encoded data removed]",
      "text/plain": [
       "<Figure size 432x288 with 1 Axes>"
      ]
     },
     "metadata": {
      "needs_background": "light"
     },
     "output_type": "display_data"
    }
   ],
   "source": [
    "imageTable = np.array([[178,228,14,164,246,210,82,79,14,157,230,154,145,204,28,178],\n",
    "                       [239,104,202,194,64,21,225,182,255,50,100,215,75,177,118,239],                       \n",
    "                       [216,155,78,195,38,3,105,101,92,172,179,24,21,43,172,216],                       \n",
    "                       [110,99,189,54,187,86,29,167,32,140,91,189,10,46,123,110],                       \n",
    "                       [28,172,166,157,34,35,18,118,74,241,119,88,146,92,212,28],                       \n",
    "                       [61,97,165,129,222,93,223,56,57,215,155,242,102,121,249,61],                       \n",
    "                       [149,69,22,220,77,146,47,68,232,203,16,221,150,65,225,149],                      \n",
    "                       [135,100,192,110,174,131,41,248,141,124,19,178,180,201,51,135],                       \n",
    "                       [251,117,102,31,57,161,146,123,244,161,61,51,41,33,158,251],                       \n",
    "                       [47,235,136,252,186,65,145,138,159,228,169,195,66,244,56,47],                       \n",
    "                       [165,63,194,127,53,79,3,21,85,8,185,41,212,141,38,165],                       \n",
    "                       [20,249,177,38,50,227,156,144,49,41,230,245,49,245,253,20],                       \n",
    "                       [195,121,21,95,197,243,116,230,235,4,86,204,191,148,150,195],                       \n",
    "                       [224,26,207,78,12,95,189,67,105,72,212,215,245,249,60,224],                       \n",
    "                       [5,8,7,98,233,176,124,251,220,129,82,236,222,137,7,5],                       \n",
    "                       [178,228,14,164,246,210,82,79,14,157,230,154,145,204,28,178]])\n",
    "\n",
    "max_image = np.amax(imageTable)\n",
    "print(max_image)\n",
    "\n",
    "print(\"Raw Array\")\n",
    "print(imageTable)\n",
    "print(\"\\n\")\n",
    "plt.title('Grayscale')\n",
    "plt.imshow(imageTable, cmap=\"gray\") \n",
    "plt.show() "
   ]
  },
  {
   "cell_type": "code",
   "execution_count": 163,
   "metadata": {},
   "outputs": [
    {
     "name": "stdout",
     "output_type": "stream",
     "text": [
      "196\n"
     ]
    }
   ],
   "source": [
    "def get_shapes(roi):\n",
    "    rows,cols = roi.shape\n",
    "    s= []\n",
    "    for x in range (1,15):\n",
    "        for y in range (1,15):\n",
    "            s.append(roi[x-1:x+2,y-1:y+2])\n",
    "            if len(s)<3:\n",
    "                pass\n",
    "    return s\n",
    "\n",
    "def get_scale(image, posistion, size):\n",
    "    return image[posistion[0]-size:posistion[0]+size+1,posistion[1]-size:posistion[1]+size+1]\n",
    "\n",
    "def get_min_and_cords(quards,img_partA_ssd):\n",
    "    send_back = []\n",
    "    minElement = np.amin(img_partA_ssd)\n",
    "    minindex = np.argmin(img_partA_ssd)\n",
    "    send_back.append(minElement)\n",
    "    send_back.append(quards[minindex])\n",
    "    return send_back\n",
    "\n",
    "def calculate_ssd(img1, img2):\n",
    "    if img1.shape != img2.shape:\n",
    "        print(\"Images don't have the same shape.\")\n",
    "        return\n",
    "    return np.sum((np.array(img1, dtype=np.float32) - np.array(img2, dtype=np.float32))**2)\n",
    "\n",
    "def block_to_cross(img):\n",
    "    img = [[img[0][0],img[0][2],img[0][4]],\n",
    "           [img[2][0],img[2][2],img[2][4]],\n",
    "           [img[4][0],img[4][2],img[4][4]]]\n",
    "    return img\n",
    "\n",
    "def block_to_hex(img):\n",
    "    img = [[img[0][1],img[0][3]],\n",
    "           [img[2][0],img[2][2],img[2][4]],\n",
    "           [img[4][1],img[4][3]]]\n",
    "    return img\n",
    "\n",
    "def block_to_diamond(img):\n",
    "    img = [[img[0][2]],\n",
    "           [img[1][1],img[1][3]],\n",
    "           [img[2][0],img[2][2],img[2][4]],\n",
    "           [img[3][1],img[3][3]],\n",
    "           [img[4][2]]]\n",
    "    return img\n",
    "\n",
    "mylist = np.indices((15, 15))\n",
    "x=[x+1 for x in mylist]\n",
    "\n",
    "new_rois= get_shapes(imageTable)\n",
    "print(len(new_rois))\n",
    "#print(new_rois)"
   ]
  },
  {
   "cell_type": "code",
   "execution_count": 88,
   "metadata": {},
   "outputs": [],
   "source": [
    "\n",
    "\n",
    "searchTemplate = np.array([[123, 250,185],[170,24,20], [117,102,31]] )\n",
    "temp = []\n",
    "full_scale = []\n",
    "for i in range (0,len(new_rois)):\n",
    "    temp= calculate_ssd(new_rois[i], searchTemplate)\n",
    "    full_scale.append(temp)\n",
    "#print(full_scale)  # DEBUG"
   ]
  },
  {
   "cell_type": "code",
   "execution_count": 166,
   "metadata": {},
   "outputs": [
    {
     "name": "stdout",
     "output_type": "stream",
     "text": [
      "[[ 91854. 162394.  65077.  15463. 102126. 153780. 147243. 133058.  64285.\n",
      "   69721.  76699.  56976. 101865. 157341.]\n",
      " [ 82724.  44934.  93871.  81862.  87772.  76835.  47236.  73501. 130187.\n",
      "   78388.  22622.  74880.  80837. 111428.]\n",
      " [ 97955.  87127.  61244. 133873.  90395.  92520.  83554.  84975.  73536.\n",
      "   86227. 128099.  90137. 123817.  59456.]\n",
      " [107487.  74368. 100191.  37413. 121919.  94241.  88018. 145132. 127068.\n",
      "  101210.  84028. 131794. 148403.  91700.]\n",
      " [ 55899.  91757. 110218. 140985. 134501. 118118.  92429. 135132.  97964.\n",
      "  159856. 120777.  56435. 132790. 113518.]\n",
      " [ 56372.  75872. 107481.  45702.  64346.  72685. 165221. 157126.  43586.\n",
      "   90839. 124983.  99368.  79454. 103921.]\n",
      " [119813.  97349.  60303. 105601.  64188. 121557. 169218.  71362.  74003.\n",
      "   93574.  91469.  99246.  95610.  78792.]\n",
      " [ 78241.  82453.  77410.  75589. 104038.  89290.  87681. 144216. 106366.\n",
      "   99528.  41654.  75549.  82762. 156772.]\n",
      " [144462. 136845. 152520.  86087.  36769.  67039.  75554.  73159. 135452.\n",
      "  129005. 136645. 154510. 125649.  50777.]\n",
      " [ 92558. 104925.  20505.  88669.  92536.  53106.  49436.  40059.  84688.\n",
      "  138248.  90222. 174136. 110060. 132689.]\n",
      " [141133.  50747.  75560. 165463. 174876. 181563. 150279. 101887. 145591.\n",
      "  190842. 138501.  96158. 180935. 133895.]\n",
      " [ 68910.  72364. 133693. 147989. 100643.  88575. 134283. 114145.  93968.\n",
      "  123961. 166257. 181891.  81676. 145540.]\n",
      " [108566. 143529.  91842.  59737.  96433. 121805.  70355. 105793. 140193.\n",
      "  166960. 148053. 154515.  86929.  69979.]\n",
      " [108397.  93078. 204661. 194956. 105157.  93179. 139933. 118852. 103341.\n",
      "   89759. 134707. 102981.  57349.  89754.]]\n"
     ]
    }
   ],
   "source": [
    "temp = []\n",
    "quards = []\n",
    "for i in range(1,len(x[0])):\n",
    "    for j in range(1,len(x[1])):\n",
    "        temp.append(i)\n",
    "        temp.append(j)\n",
    "        #print(temp)\n",
    "        quards.append(temp)\n",
    "        #print(quards)\n",
    "        \n",
    "quards= np.array(quards[0]).reshape(-1, 2)\n",
    "\n",
    "ssd_list = [full_scale[0:14],full_scale[14:28],full_scale[28:42],full_scale[42:56],\n",
    "            full_scale[56:70],full_scale[70:84],full_scale[84:98],full_scale[98:112],\n",
    "            full_scale[112:126],full_scale[126:140],full_scale[140:154],full_scale[154:168],\n",
    "            full_scale[168:182],full_scale[182:196]]\n",
    "\n",
    "ssd_list_npa = np.asarray(ssd_list, dtype=np.float32)\n",
    "\n",
    "print(ssd_list_npa)"
   ]
  },
  {
   "cell_type": "markdown",
   "metadata": {},
   "source": [
    "######  Full Search - Use the center of in each round to find the best value in a 7x7 area surrounding query point. Code Full Search as a BxB location (assume it can be centered by B being odd valued)."
   ]
  },
  {
   "cell_type": "code",
   "execution_count": 143,
   "metadata": {},
   "outputs": [
    {
     "name": "stdout",
     "output_type": "stream",
     "text": [
      "Full Search Search Stage 2\n",
      "The array we are calculating:\n",
      "[[ 72685. 165221. 157126.  43586.  90839. 124983.  99368.]\n",
      " [121557. 169218.  71362.  74003.  93574.  91469.  99246.]\n",
      " [ 89290.  87681. 144216. 106366.  99528.  41654.  75549.]\n",
      " [ 67039.  75554.  73159. 135452. 129005. 136645. 154510.]\n",
      " [ 53106.  49436.  40059.  84688. 138248.  90222. 174136.]\n",
      " [181563. 150279. 101887. 145591. 190842. 138501.  96158.]\n",
      " [ 88575. 134283. 114145.  93968. 123961. 166257. 181891.]]\n",
      "With min positions at:\n",
      "[40059.0, array([3, 3])]\n"
     ]
    }
   ],
   "source": [
    "img_partA = get_scale(ssd_list_npa, posistion=(8,8), size = 3)\n",
    "partA_min=get_min_and_cords(quards,img_partA)\n",
    "print(\"Full Search Search Stage 2\")\n",
    "print(\"The array we are calculating:\")\n",
    "print(img_partA)\n",
    "print(\"With min positions at:\")\n",
    "print(partA_min)"
   ]
  },
  {
   "cell_type": "markdown",
   "metadata": {},
   "source": [
    "######  3SS (3 Stage Search) - Use the center of in each round to find the best value."
   ]
  },
  {
   "cell_type": "code",
   "execution_count": 147,
   "metadata": {},
   "outputs": [
    {
     "name": "stdout",
     "output_type": "stream",
     "text": [
      "3SS Search Stage 1\n",
      "The array we are calculating:\n",
      "[[72685.0, 157126.0, 90839.0], [89290.0, 144216.0, 99528.0], [53106.0, 40059.0, 138248.0]]\n",
      "With min positions at:\n",
      "[40059.0, array([1, 8])]\n"
     ]
    }
   ],
   "source": [
    "img_partB_ssd1 = get_scale(ssd_list_npa,  posistion=(8,8), size = 3)    \n",
    "img_partB1 = block_to_cross(img_partB_ssd1)\n",
    "partB_min1 = get_min_and_cords(quards,img_partB1)\n",
    "print(\"3SS Search Stage 1\")\n",
    "print(\"The array we are calculating:\")\n",
    "print(img_partB1)\n",
    "print(\"With min positions at:\")\n",
    "print(partB_min1)\n"
   ]
  },
  {
   "cell_type": "code",
   "execution_count": 148,
   "metadata": {},
   "outputs": [
    {
     "name": "stdout",
     "output_type": "stream",
     "text": [
      "3SS Search Stage 2\n",
      "The array we are calculating:\n",
      "[[88018.0, 127068.0, 84028.0], [165221.0, 43586.0, 124983.0], [87681.0, 106366.0, 41654.0]]\n",
      "With min positions at:\n",
      "[41654.0, array([1, 9])]\n"
     ]
    }
   ],
   "source": [
    "img_partB_ssd2 = get_scale(ssd_list_npa,  posistion=(5,8), size = 2)\n",
    "img_partB2 = block_to_cross(img_partB_ssd2)\n",
    "partB_min2 = get_min_and_cords(quards,img_partB2)\n",
    "print(\"3SS Search Stage 2\")\n",
    "print(\"The array we are calculating:\")\n",
    "print(img_partB2)\n",
    "print(\"With min positions at:\")\n",
    "print(partB_min2)\n"
   ]
  },
  {
   "cell_type": "code",
   "execution_count": 149,
   "metadata": {},
   "outputs": [
    {
     "name": "stdout",
     "output_type": "stream",
     "text": [
      "3SS Search Stage 3\n",
      "The array we are calculating:\n",
      "[[ 93574.  91469.  99246.]\n",
      " [ 99528.  41654.  75549.]\n",
      " [129005. 136645. 154510.]]\n",
      "With min positions at:\n",
      "[41654.0, array([1, 5])]\n"
     ]
    }
   ],
   "source": [
    "img_partB_ssd3 =get_scale(ssd_list_npa, posistion=(7,10), size = 1)\n",
    "partB_min3 = get_min_and_cords(quards,img_partB_ssd3)\n",
    "print(\"3SS Search Stage 3\")\n",
    "print(\"The array we are calculating:\")\n",
    "print(img_partB_ssd3)\n",
    "print(\"With min positions at:\")\n",
    "print(partB_min3)"
   ]
  },
  {
   "cell_type": "markdown",
   "metadata": {},
   "source": [
    "###### 4SS (4 Stage Search) - Use the center of in each round to find the best value."
   ]
  },
  {
   "cell_type": "code",
   "execution_count": 150,
   "metadata": {},
   "outputs": [
    {
     "name": "stdout",
     "output_type": "stream",
     "text": [
      "4SS Search Stage 1\n",
      "The array we are calculating:\n",
      "[[169218.0, 74003.0, 91469.0], [75554.0, 135452.0, 136645.0], [150279.0, 145591.0, 138501.0]]\n",
      "With min positions at:\n",
      "[74003.0, array([1, 2])]\n"
     ]
    }
   ],
   "source": [
    "img_partC_ssd1 =get_scale(ssd_list_npa, posistion=(8,8), size = 2)\n",
    "img_partC1 = block_to_cross(img_partC_ssd1)\n",
    "partC_min1 = get_min_and_cords(quards,img_partC1 )\n",
    "print(\"4SS Search Stage 1\")\n",
    "print(\"The array we are calculating:\")\n",
    "print(img_partC1)\n",
    "print(\"With min positions at:\")\n",
    "print(partC_min1)"
   ]
  },
  {
   "cell_type": "code",
   "execution_count": 151,
   "metadata": {},
   "outputs": [
    {
     "name": "stdout",
     "output_type": "stream",
     "text": [
      "4SS Search Stage 2\n",
      "The array we are calculating:\n",
      "[[92429.0, 97964.0, 120777.0], [169218.0, 74003.0, 91469.0], [75554.0, 135452.0, 136645.0]]\n",
      "With min positions at:\n",
      "[74003.0, array([1, 5])]\n"
     ]
    }
   ],
   "source": [
    "img_partC_ssd2 =get_scale(ssd_list_npa, posistion=(6,8), size = 2)\n",
    "img_partC2 = block_to_cross(img_partC_ssd2)\n",
    "partC_min2 = get_min_and_cords(quards,img_partC2)\n",
    "print(\"4SS Search Stage 2\")\n",
    "print(\"The array we are calculating:\")\n",
    "print(img_partC2)\n",
    "print(\"With min positions at:\")\n",
    "print(partC_min2)"
   ]
  },
  {
   "cell_type": "code",
   "execution_count": 152,
   "metadata": {},
   "outputs": [
    {
     "name": "stdout",
     "output_type": "stream",
     "text": [
      "4SS Search Stage 3\n",
      "The array we are calculating:\n",
      "[[92429.0, 97964.0, 120777.0], [169218.0, 74003.0, 91469.0], [75554.0, 135452.0, 136645.0]]\n",
      "With min positions at:\n",
      "[74003.0, array([1, 5])]\n"
     ]
    }
   ],
   "source": [
    "img_partC_ssd3 =get_scale(ssd_list_npa, posistion=(6,8), size = 2)\n",
    "img_partC3 = block_to_cross(img_partC_ssd3)\n",
    "partC_min3 = get_min_and_cords(quards,img_partC3)\n",
    "print(\"4SS Search Stage 3\")\n",
    "print(\"The array we are calculating:\")\n",
    "print(img_partC3)\n",
    "print(\"With min positions at:\")\n",
    "print(partC_min3)"
   ]
  },
  {
   "cell_type": "code",
   "execution_count": 153,
   "metadata": {},
   "outputs": [
    {
     "name": "stdout",
     "output_type": "stream",
     "text": [
      "4SS Search Stage 4\n",
      "The array we are calculating:\n",
      "[[157126.  43586.  90839.]\n",
      " [ 71362.  74003.  93574.]\n",
      " [144216. 106366.  99528.]]\n",
      "With min positions at:\n",
      "[43586.0, array([1, 2])]\n"
     ]
    }
   ],
   "source": [
    "img_partC_ssd4 =get_scale(ssd_list_npa, posistion=(6,8), size = 1)\n",
    "partC_min4 = get_min_and_cords(quards,img_partC_ssd4)\n",
    "print(\"4SS Search Stage 4\")\n",
    "print(\"The array we are calculating:\")\n",
    "print(img_partC_ssd4)\n",
    "print(\"With min positions at:\")\n",
    "print(partC_min4)"
   ]
  },
  {
   "cell_type": "markdown",
   "metadata": {},
   "source": [
    "######  HexagonBM- Use the center of in each round to find the best value."
   ]
  },
  {
   "cell_type": "code",
   "execution_count": 154,
   "metadata": {},
   "outputs": [
    {
     "name": "stdout",
     "output_type": "stream",
     "text": [
      "HexagonBM Search Stage 1\n",
      "The array we are calculating:\n",
      "[[169218.0, 74003.0, 91469.0], [75554.0, 135452.0, 136645.0], [150279.0, 145591.0, 138501.0]]\n",
      "With min positions at:\n",
      "[41654.0, array([1, 9])]\n"
     ]
    }
   ],
   "source": [
    "img_partD_ssd1 =get_scale(ssd_list_npa, posistion=(8,8), size = 2)\n",
    "img_partD1 = block_to_cross(img_partD_ssd1)\n",
    "partD_min1 = get_min_and_cords(quards,img_partB2 )\n",
    "print(\"HexagonBM Search Stage 1\")\n",
    "print(\"The array we are calculating:\")\n",
    "print(img_partD1)\n",
    "print(\"With min positions at:\")\n",
    "print(partD_min1)\n",
    "\n"
   ]
  },
  {
   "cell_type": "code",
   "execution_count": 155,
   "metadata": {},
   "outputs": [
    {
     "name": "stdout",
     "output_type": "stream",
     "text": [
      "HexagonBM Search Stage 2\n",
      "The array we are calculating:\n",
      "[[92429.0, 97964.0, 120777.0], [169218.0, 74003.0, 91469.0], [75554.0, 135452.0, 136645.0]]\n",
      "With min positions at:\n",
      "[74003.0, array([1, 5])]\n"
     ]
    }
   ],
   "source": [
    "img_partD_ssd2 =get_scale(ssd_list_npa, posistion=(6,8), size = 2)\n",
    "img_partD2 = block_to_cross(img_partD_ssd2)\n",
    "partD_min2 = get_min_and_cords(quards,img_partD2)\n",
    "print(\"HexagonBM Search Stage 2\")\n",
    "print(\"The array we are calculating:\")\n",
    "print(img_partD2)\n",
    "print(\"With min positions at:\")\n",
    "print(partD_min2)\n"
   ]
  },
  {
   "cell_type": "code",
   "execution_count": 156,
   "metadata": {},
   "outputs": [
    {
     "name": "stdout",
     "output_type": "stream",
     "text": [
      "HexagonBM Search Stage 3\n",
      "The array we are calculating:\n",
      "[[92429.0, 97964.0, 120777.0], [169218.0, 74003.0, 91469.0], [75554.0, 135452.0, 136645.0]]\n",
      "With min positions at:\n",
      "[74003.0, array([1, 5])]\n"
     ]
    }
   ],
   "source": [
    "img_partD_ssd3 =get_scale(ssd_list_npa, posistion=(6,8), size = 2)\n",
    "img_partD3 = block_to_cross(img_partD_ssd3)\n",
    "partD_min3 = get_min_and_cords(quards,img_partD3)\n",
    "print(\"HexagonBM Search Stage 3\")\n",
    "print(\"The array we are calculating:\")\n",
    "print(img_partD3)\n",
    "print(\"With min positions at:\")\n",
    "print(partC_min3)\n"
   ]
  },
  {
   "cell_type": "code",
   "execution_count": 157,
   "metadata": {},
   "outputs": [
    {
     "name": "stdout",
     "output_type": "stream",
     "text": [
      "HexagonBM Search Stage 4\n",
      "The array we are calculating:\n",
      "[[157126.  43586.  90839.]\n",
      " [ 71362.  74003.  93574.]\n",
      " [144216. 106366.  99528.]]\n",
      "With min positions at:\n",
      "[43586.0, array([1, 2])]\n"
     ]
    }
   ],
   "source": [
    "img_partD_ssd4 =get_scale(ssd_list_npa, posistion=(6,8), size = 1)\n",
    "partD_min4 = get_min_and_cords(quards,img_partD_ssd4)\n",
    "print(\"HexagonBM Search Stage 4\")\n",
    "print(\"The array we are calculating:\")\n",
    "print(img_partD_ssd4)\n",
    "print(\"With min positions at:\")\n",
    "print(partD_min4)"
   ]
  },
  {
   "cell_type": "markdown",
   "metadata": {},
   "source": [
    "###### Diamond- Use the center of in each round to find the best value."
   ]
  },
  {
   "cell_type": "code",
   "execution_count": 158,
   "metadata": {},
   "outputs": [
    {
     "name": "stdout",
     "output_type": "stream",
     "text": [
      "Diamond Search Stage 1\n",
      "The array we are calculating:\n",
      "[[74003.0], [144216.0, 99528.0], [75554.0, 135452.0, 136645.0], [40059.0, 138248.0], [145591.0]]\n",
      "With min positions at:\n",
      "[[40059.0, 138248.0], array([1, 4])]\n"
     ]
    }
   ],
   "source": [
    "img_partE_ssd1 =get_scale(ssd_list_npa, posistion=(8,8), size = 2)\n",
    "img_partE1 =  block_to_diamond(img_partE_ssd1)\n",
    "partE_min1 = get_min_and_cords(quards,img_partE1)\n",
    "print(\"Diamond Search Stage 1\")\n",
    "print(\"The array we are calculating:\")\n",
    "print(img_partE1)\n",
    "print(\"With min positions at:\")\n",
    "print(partE_min1)"
   ]
  },
  {
   "cell_type": "code",
   "execution_count": 159,
   "metadata": {},
   "outputs": [
    {
     "name": "stdout",
     "output_type": "stream",
     "text": [
      "Diamond Search Stage 2\n",
      "The array we are calculating:\n",
      "[[144216.0], [75554.0, 135452.0], [53106.0, 40059.0, 138248.0], [150279.0, 145591.0], [114145.0]]\n",
      "With min positions at:\n",
      "[[53106.0, 40059.0, 138248.0], array([1, 3])]\n"
     ]
    }
   ],
   "source": [
    "img_partE_ssd2 =get_scale(ssd_list_npa, posistion=(9,7), size = 2)\n",
    "img_partE2 =  block_to_diamond(img_partE_ssd2)\n",
    "partE_min2 = get_min_and_cords(quards,img_partE2)\n",
    "print(\"Diamond Search Stage 2\")\n",
    "print(\"The array we are calculating:\")\n",
    "print(img_partE2)\n",
    "print(\"With min positions at:\")\n",
    "print(partE_min2)"
   ]
  },
  {
   "cell_type": "code",
   "execution_count": 160,
   "metadata": {
    "scrolled": true
   },
   "outputs": [
    {
     "name": "stdout",
     "output_type": "stream",
     "text": [
      "Diamond Search Stage 3\n",
      "The array we are calculating:\n",
      "[[144216.0], [75554.0, 135452.0], [53106.0, 40059.0, 138248.0], [150279.0, 145591.0], [114145.0]]\n",
      "With min positions at:\n",
      "[[53106.0, 40059.0, 138248.0], array([1, 3])]\n"
     ]
    }
   ],
   "source": [
    "img_partE_ssd3 =get_scale(ssd_list_npa, posistion=(9,7), size = 2)\n",
    "img_partE3 = block_to_diamond(img_partE_ssd3)\n",
    "partE_min3 = get_min_and_cords(quards,img_partE3)\n",
    "print(\"Diamond Search Stage 3\")\n",
    "print(\"The array we are calculating:\")\n",
    "print(img_partE3)\n",
    "print(\"With min positions at:\")\n",
    "print(partE_min3)"
   ]
  },
  {
   "cell_type": "code",
   "execution_count": 161,
   "metadata": {},
   "outputs": [
    {
     "name": "stdout",
     "output_type": "stream",
     "text": [
      "Diamond Search Stage 4\n",
      "The array we are calculating:\n",
      "[[73159.0], [49436.0, 40059.0, 84688.0], [101887.0]]\n",
      "With min positions at:\n",
      "[[49436.0, 40059.0, 84688.0], array([1, 2])]\n"
     ]
    }
   ],
   "source": [
    "img_partE_ssd4 =get_scale(ssd_list_npa, posistion=(9,7), size = 1)\n",
    "img_partE4 = [[img_partE_ssd4[0][1]],[img_partE_ssd4[1][0],img_partE_ssd4[1][1],img_partE_ssd4[1][2]],[img_partE_ssd4[2][1]]]\n",
    "partE_min4 = get_min_and_cords(quards,img_partE4)\n",
    "print(\"Diamond Search Stage 4\")\n",
    "print(\"The array we are calculating:\")\n",
    "print(img_partE4)\n",
    "print(\"With min positions at:\")\n",
    "print(partE_min4)\n"
   ]
  },
  {
   "attachments": {
    "parteresults.JPG": {
     "image/jpeg": "[encoded data removed]"
    }
   },
   "cell_type": "markdown",
   "metadata": {},
   "source": [
    "![parteresults.JPG](attachment:parteresults.JPG)"
   ]
  },
  {
   "cell_type": "markdown",
   "metadata": {},
   "source": [
    "######  Block Match Scoring: For each stage, generate the positions of the ImageTable with the highest candidate score and the score"
   ]
  },
  {
   "attachments": {
    "partFresiltes.JPG": {
     "image/jpeg": "[encoded data removed]"
    }
   },
   "cell_type": "markdown",
   "metadata": {},
   "source": [
    "![partFresiltes.JPG](attachment:partFresiltes.JPG)"
   ]
  },
  {
   "cell_type": "code",
   "execution_count": null,
   "metadata": {},
   "outputs": [],
   "source": []
  }
 ],
 "metadata": {
  "kernelspec": {
   "display_name": "Python 3",
   "language": "python",
   "name": "python3"
  },
  "language_info": {
   "codemirror_mode": {
    "name": "ipython",
    "version": 3
   },
   "file_extension": ".py",
   "mimetype": "text/x-python",
   "name": "python",
   "nbconvert_exporter": "python",
   "pygments_lexer": "ipython3",
   "version": "3.8.6"
  }
 },
 "nbformat": 4,
 "nbformat_minor": 4
}
