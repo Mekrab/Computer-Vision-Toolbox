{
 "cells": [
  {
   "cell_type": "code",
   "execution_count": 1,
   "metadata": {},
   "outputs": [],
   "source": [
    "from csv import reader\n",
    "from math import sqrt\n",
    "import numpy as np"
   ]
  },
  {
   "cell_type": "code",
   "execution_count": 16,
   "metadata": {},
   "outputs": [],
   "source": [
    " # Load a CSV file\n",
    "def load_csv(filename):\n",
    "    dataset = list()\n",
    "    with open(filename, 'r') as file:\n",
    "        csv_reader = reader(file)\n",
    "        for row in csv_reader:\n",
    "            if not row:\n",
    "                continue\n",
    "            dataset.append(row)\n",
    "    return dataset\n",
    " \n",
    "# Convert string column to float\n",
    "def str_column_to_float(dataset, column):\n",
    "\tfor row in dataset:\n",
    "\t\trow[column] = float(row[column].strip())\n",
    " \n",
    "# Convert string column to integer\n",
    "def str_column_to_int(dataset, column):\n",
    "\tclass_values = [row[column] for row in dataset]\n",
    "\tunique = set(class_values)\n",
    "\tlookup = dict()\n",
    "\tfor i, value in enumerate(unique):\n",
    "\t\tlookup[value] = i\n",
    "\t\tprint('[%s] => %d' % (value, i))\n",
    "\tfor row in dataset:\n",
    "\t\trow[column] = lookup[row[column]]\n",
    "\treturn lookup\n",
    " \n",
    "# Find the min and max values for each column\n",
    "def dataset_minmax(dataset):\n",
    "\tminmax = list()\n",
    "\tfor i in range(len(dataset[0])):\n",
    "\t\tcol_values = [row[i] for row in dataset]\n",
    "\t\tvalue_min = min(col_values)\n",
    "\t\tvalue_max = max(col_values)\n",
    "\t\tminmax.append([value_min, value_max])\n",
    "\treturn minmax\n",
    " \n",
    "# Rescale dataset columns to the range 0-1\n",
    "def normalize_dataset(dataset, minmax):\n",
    "\tfor row in dataset:\n",
    "\t\tfor i in range(len(row)):\n",
    "\t\t\trow[i] = (row[i] - minmax[i][0]) / (minmax[i][1] - minmax[i][0])\n",
    " \n",
    "# Calculate the Euclidean distance between two vectors\n",
    "def euclidean_distance(row1, row2):\n",
    "\tdistance = 0.0\n",
    "\tfor i in range(len(row1)-1):\n",
    "\t\tdistance += (row1[i] - row2[i])**2\n",
    "\treturn sqrt(distance)\n",
    " \n",
    "# Locate the most similar neighbors\n",
    "def get_neighbors(train, test_row, num_neighbors):\n",
    "    distances = list()\n",
    "    for train_row in train:\n",
    "        dist = euclidean_distance(test_row, train_row)\n",
    "        distances.append((train_row, dist))\n",
    "    distances.sort(key=lambda tup: tup[1])\n",
    "    neighbors = [distances[i][0] for i in range(num_neighbors)]\n",
    "    return neighbors\n",
    " \n",
    "    \n",
    "from collections import Counter \n",
    "  \n",
    "def majority(arr): \n",
    "  \n",
    "    # convert array into dictionary \n",
    "    freqDict = Counter(arr) \n",
    "  \n",
    "    # traverse dictionary and check majority element \n",
    "    size = len(arr) \n",
    "    for (key,val) in freqDict.items(): \n",
    "         if (val > (size/2)): \n",
    "             # print(key) \n",
    "             return key\n",
    "    #print('None')\n",
    "    return -1\n",
    "    \n",
    "# Make a prediction with neighbors\n",
    "def predict_classification(train, num_neighbors, test_row, prediction_type='majority'):\n",
    "    neighbors = get_neighbors(train, test_row, num_neighbors)\n",
    "    output_values = [row[-1] for row in neighbors]\n",
    "    \n",
    "    print (\"Closet datapoints: \")\n",
    "    print (neighbors)\n",
    "    \n",
    "    print (\"Closet datapoints classes: \", end =\" \")\n",
    "    print (output_values)\n",
    "    \n",
    "    if prediction_type == 'majority':\n",
    "        prediction = majority(output_values)\n",
    "    else:\n",
    "        prediction = max(set(output_values), key=output_values.count)\n",
    "    return prediction\n",
    " "
   ]
  },
  {
   "cell_type": "code",
   "execution_count": 18,
   "metadata": {},
   "outputs": [
    {
     "name": "stdout",
     "output_type": "stream",
     "text": [
      "[Good] => 0\n",
      "[Bad] => 1\n",
      "Closet datapoints: \n",
      "[[3.0, 7.0, 1], [3.0, 3.0, 0], [3.0, 2.0, 1]]\n",
      "Closet datapoints classes:  [1, 0, 1]\n",
      "Data [3, 4], Prediction: 1\n"
     ]
    }
   ],
   "source": [
    "def prepare_dataset(filename):\n",
    "    dataset = load_csv(filename)\n",
    "    #print (dataset)\n",
    "    for i in range(len(dataset[0])-1):\n",
    "        str_column_to_float(dataset, i)\n",
    "\n",
    "    str_column_to_int(dataset, len(dataset[0])-1)\n",
    "    return dataset\n",
    "\n",
    "def run_knn(dataset, num_neighbors, input_data):\n",
    "    label = predict_classification(dataset, num_neighbors, input_data)\n",
    "    print('Input Data %s -> Prediction: %s' % (input_data, label))\n",
    "\n",
    "\n",
    "dataset = prepare_dataset('example_knn.csv')\n",
    "run_knn(dataset, num_neighbors=3, input_data=[3,4] )"
   ]
  },
  {
   "cell_type": "code",
   "execution_count": 19,
   "metadata": {},
   "outputs": [
    {
     "name": "stdout",
     "output_type": "stream",
     "text": [
      "Closet datapoints: \n",
      "[[3.0, 7.0, 1], [3.0, 3.0, 0], [3.0, 2.0, 1], [2.0, 1.0, 0], [1.0, 1.0, 0]]\n",
      "Closet datapoints classes:  [1, 0, 1, 0, 0]\n",
      "Data [3, 4], Prediction: 0\n"
     ]
    }
   ],
   "source": [
    "run_knn(dataset, num_neighbors=5, input_data=[3,4] )"
   ]
  },
  {
   "cell_type": "code",
   "execution_count": null,
   "metadata": {},
   "outputs": [],
   "source": []
  }
 ],
 "metadata": {
  "kernelspec": {
   "display_name": "Python 3",
   "language": "python",
   "name": "python3"
  },
  "language_info": {
   "codemirror_mode": {
    "name": "ipython",
    "version": 3
   },
   "file_extension": ".py",
   "mimetype": "text/x-python",
   "name": "python",
   "nbconvert_exporter": "python",
   "pygments_lexer": "ipython3",
   "version": "3.7.3"
  }
 },
 "nbformat": 4,
 "nbformat_minor": 4
}
